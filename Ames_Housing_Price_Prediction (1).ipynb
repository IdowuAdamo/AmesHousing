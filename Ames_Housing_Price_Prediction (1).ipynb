{
 "cells": [
  {
   "cell_type": "code",
   "execution_count": 1,
   "id": "50f5a0d6",
   "metadata": {},
   "outputs": [],
   "source": [
    "import pandas as pd\n",
    "import numpy as np\n",
    "import matplotlib.pyplot as plt\n",
    "import seaborn as sns"
   ]
  },
  {
   "cell_type": "code",
   "execution_count": 2,
   "id": "5b4d4092",
   "metadata": {},
   "outputs": [],
   "source": [
    "df = pd.read_csv('AmesHousing.csv')"
   ]
  },
  {
   "cell_type": "code",
   "execution_count": 3,
   "id": "dd3330f8",
   "metadata": {},
   "outputs": [
    {
     "data": {
      "text/plain": [
       "(2930, 82)"
      ]
     },
     "execution_count": 3,
     "metadata": {},
     "output_type": "execute_result"
    }
   ],
   "source": [
    "df.shape"
   ]
  },
  {
   "cell_type": "code",
   "execution_count": 4,
   "id": "35488b36",
   "metadata": {},
   "outputs": [
    {
     "data": {
      "text/html": [
       "<div>\n",
       "<style scoped>\n",
       "    .dataframe tbody tr th:only-of-type {\n",
       "        vertical-align: middle;\n",
       "    }\n",
       "\n",
       "    .dataframe tbody tr th {\n",
       "        vertical-align: top;\n",
       "    }\n",
       "\n",
       "    .dataframe thead th {\n",
       "        text-align: right;\n",
       "    }\n",
       "</style>\n",
       "<table border=\"1\" class=\"dataframe\">\n",
       "  <thead>\n",
       "    <tr style=\"text-align: right;\">\n",
       "      <th></th>\n",
       "      <th>Order</th>\n",
       "      <th>PID</th>\n",
       "      <th>MS SubClass</th>\n",
       "      <th>MS Zoning</th>\n",
       "      <th>Lot Frontage</th>\n",
       "      <th>Lot Area</th>\n",
       "      <th>Street</th>\n",
       "      <th>Alley</th>\n",
       "      <th>Lot Shape</th>\n",
       "      <th>Land Contour</th>\n",
       "      <th>...</th>\n",
       "      <th>Pool Area</th>\n",
       "      <th>Pool QC</th>\n",
       "      <th>Fence</th>\n",
       "      <th>Misc Feature</th>\n",
       "      <th>Misc Val</th>\n",
       "      <th>Mo Sold</th>\n",
       "      <th>Yr Sold</th>\n",
       "      <th>Sale Type</th>\n",
       "      <th>Sale Condition</th>\n",
       "      <th>SalePrice</th>\n",
       "    </tr>\n",
       "  </thead>\n",
       "  <tbody>\n",
       "    <tr>\n",
       "      <th>0</th>\n",
       "      <td>1</td>\n",
       "      <td>526301100</td>\n",
       "      <td>20</td>\n",
       "      <td>RL</td>\n",
       "      <td>141.0</td>\n",
       "      <td>31770</td>\n",
       "      <td>Pave</td>\n",
       "      <td>NaN</td>\n",
       "      <td>IR1</td>\n",
       "      <td>Lvl</td>\n",
       "      <td>...</td>\n",
       "      <td>0</td>\n",
       "      <td>NaN</td>\n",
       "      <td>NaN</td>\n",
       "      <td>NaN</td>\n",
       "      <td>0</td>\n",
       "      <td>5</td>\n",
       "      <td>2010</td>\n",
       "      <td>WD</td>\n",
       "      <td>Normal</td>\n",
       "      <td>215000</td>\n",
       "    </tr>\n",
       "    <tr>\n",
       "      <th>1</th>\n",
       "      <td>2</td>\n",
       "      <td>526350040</td>\n",
       "      <td>20</td>\n",
       "      <td>RH</td>\n",
       "      <td>80.0</td>\n",
       "      <td>11622</td>\n",
       "      <td>Pave</td>\n",
       "      <td>NaN</td>\n",
       "      <td>Reg</td>\n",
       "      <td>Lvl</td>\n",
       "      <td>...</td>\n",
       "      <td>0</td>\n",
       "      <td>NaN</td>\n",
       "      <td>MnPrv</td>\n",
       "      <td>NaN</td>\n",
       "      <td>0</td>\n",
       "      <td>6</td>\n",
       "      <td>2010</td>\n",
       "      <td>WD</td>\n",
       "      <td>Normal</td>\n",
       "      <td>105000</td>\n",
       "    </tr>\n",
       "    <tr>\n",
       "      <th>2</th>\n",
       "      <td>3</td>\n",
       "      <td>526351010</td>\n",
       "      <td>20</td>\n",
       "      <td>RL</td>\n",
       "      <td>81.0</td>\n",
       "      <td>14267</td>\n",
       "      <td>Pave</td>\n",
       "      <td>NaN</td>\n",
       "      <td>IR1</td>\n",
       "      <td>Lvl</td>\n",
       "      <td>...</td>\n",
       "      <td>0</td>\n",
       "      <td>NaN</td>\n",
       "      <td>NaN</td>\n",
       "      <td>Gar2</td>\n",
       "      <td>12500</td>\n",
       "      <td>6</td>\n",
       "      <td>2010</td>\n",
       "      <td>WD</td>\n",
       "      <td>Normal</td>\n",
       "      <td>172000</td>\n",
       "    </tr>\n",
       "    <tr>\n",
       "      <th>3</th>\n",
       "      <td>4</td>\n",
       "      <td>526353030</td>\n",
       "      <td>20</td>\n",
       "      <td>RL</td>\n",
       "      <td>93.0</td>\n",
       "      <td>11160</td>\n",
       "      <td>Pave</td>\n",
       "      <td>NaN</td>\n",
       "      <td>Reg</td>\n",
       "      <td>Lvl</td>\n",
       "      <td>...</td>\n",
       "      <td>0</td>\n",
       "      <td>NaN</td>\n",
       "      <td>NaN</td>\n",
       "      <td>NaN</td>\n",
       "      <td>0</td>\n",
       "      <td>4</td>\n",
       "      <td>2010</td>\n",
       "      <td>WD</td>\n",
       "      <td>Normal</td>\n",
       "      <td>244000</td>\n",
       "    </tr>\n",
       "    <tr>\n",
       "      <th>4</th>\n",
       "      <td>5</td>\n",
       "      <td>527105010</td>\n",
       "      <td>60</td>\n",
       "      <td>RL</td>\n",
       "      <td>74.0</td>\n",
       "      <td>13830</td>\n",
       "      <td>Pave</td>\n",
       "      <td>NaN</td>\n",
       "      <td>IR1</td>\n",
       "      <td>Lvl</td>\n",
       "      <td>...</td>\n",
       "      <td>0</td>\n",
       "      <td>NaN</td>\n",
       "      <td>MnPrv</td>\n",
       "      <td>NaN</td>\n",
       "      <td>0</td>\n",
       "      <td>3</td>\n",
       "      <td>2010</td>\n",
       "      <td>WD</td>\n",
       "      <td>Normal</td>\n",
       "      <td>189900</td>\n",
       "    </tr>\n",
       "  </tbody>\n",
       "</table>\n",
       "<p>5 rows × 82 columns</p>\n",
       "</div>"
      ],
      "text/plain": [
       "   Order        PID  MS SubClass MS Zoning  Lot Frontage  Lot Area Street  \\\n",
       "0      1  526301100           20        RL         141.0     31770   Pave   \n",
       "1      2  526350040           20        RH          80.0     11622   Pave   \n",
       "2      3  526351010           20        RL          81.0     14267   Pave   \n",
       "3      4  526353030           20        RL          93.0     11160   Pave   \n",
       "4      5  527105010           60        RL          74.0     13830   Pave   \n",
       "\n",
       "  Alley Lot Shape Land Contour  ... Pool Area Pool QC  Fence Misc Feature  \\\n",
       "0   NaN       IR1          Lvl  ...         0     NaN    NaN          NaN   \n",
       "1   NaN       Reg          Lvl  ...         0     NaN  MnPrv          NaN   \n",
       "2   NaN       IR1          Lvl  ...         0     NaN    NaN         Gar2   \n",
       "3   NaN       Reg          Lvl  ...         0     NaN    NaN          NaN   \n",
       "4   NaN       IR1          Lvl  ...         0     NaN  MnPrv          NaN   \n",
       "\n",
       "  Misc Val Mo Sold Yr Sold Sale Type  Sale Condition  SalePrice  \n",
       "0        0       5    2010       WD           Normal     215000  \n",
       "1        0       6    2010       WD           Normal     105000  \n",
       "2    12500       6    2010       WD           Normal     172000  \n",
       "3        0       4    2010       WD           Normal     244000  \n",
       "4        0       3    2010       WD           Normal     189900  \n",
       "\n",
       "[5 rows x 82 columns]"
      ]
     },
     "execution_count": 4,
     "metadata": {},
     "output_type": "execute_result"
    }
   ],
   "source": [
    "df.head()"
   ]
  },
  {
   "cell_type": "code",
   "execution_count": 5,
   "id": "b9b4ebec",
   "metadata": {},
   "outputs": [
    {
     "name": "stdout",
     "output_type": "stream",
     "text": [
      "<class 'pandas.core.frame.DataFrame'>\n",
      "RangeIndex: 2930 entries, 0 to 2929\n",
      "Data columns (total 82 columns):\n",
      " #   Column           Non-Null Count  Dtype  \n",
      "---  ------           --------------  -----  \n",
      " 0   Order            2930 non-null   int64  \n",
      " 1   PID              2930 non-null   int64  \n",
      " 2   MS SubClass      2930 non-null   int64  \n",
      " 3   MS Zoning        2930 non-null   object \n",
      " 4   Lot Frontage     2440 non-null   float64\n",
      " 5   Lot Area         2930 non-null   int64  \n",
      " 6   Street           2930 non-null   object \n",
      " 7   Alley            198 non-null    object \n",
      " 8   Lot Shape        2930 non-null   object \n",
      " 9   Land Contour     2930 non-null   object \n",
      " 10  Utilities        2930 non-null   object \n",
      " 11  Lot Config       2930 non-null   object \n",
      " 12  Land Slope       2930 non-null   object \n",
      " 13  Neighborhood     2930 non-null   object \n",
      " 14  Condition 1      2930 non-null   object \n",
      " 15  Condition 2      2930 non-null   object \n",
      " 16  Bldg Type        2930 non-null   object \n",
      " 17  House Style      2930 non-null   object \n",
      " 18  Overall Qual     2930 non-null   int64  \n",
      " 19  Overall Cond     2930 non-null   int64  \n",
      " 20  Year Built       2930 non-null   int64  \n",
      " 21  Year Remod/Add   2930 non-null   int64  \n",
      " 22  Roof Style       2930 non-null   object \n",
      " 23  Roof Matl        2930 non-null   object \n",
      " 24  Exterior 1st     2930 non-null   object \n",
      " 25  Exterior 2nd     2930 non-null   object \n",
      " 26  Mas Vnr Type     2907 non-null   object \n",
      " 27  Mas Vnr Area     2907 non-null   float64\n",
      " 28  Exter Qual       2930 non-null   object \n",
      " 29  Exter Cond       2930 non-null   object \n",
      " 30  Foundation       2930 non-null   object \n",
      " 31  Bsmt Qual        2850 non-null   object \n",
      " 32  Bsmt Cond        2850 non-null   object \n",
      " 33  Bsmt Exposure    2847 non-null   object \n",
      " 34  BsmtFin Type 1   2850 non-null   object \n",
      " 35  BsmtFin SF 1     2929 non-null   float64\n",
      " 36  BsmtFin Type 2   2849 non-null   object \n",
      " 37  BsmtFin SF 2     2929 non-null   float64\n",
      " 38  Bsmt Unf SF      2929 non-null   float64\n",
      " 39  Total Bsmt SF    2929 non-null   float64\n",
      " 40  Heating          2930 non-null   object \n",
      " 41  Heating QC       2930 non-null   object \n",
      " 42  Central Air      2930 non-null   object \n",
      " 43  Electrical       2929 non-null   object \n",
      " 44  1st Flr SF       2930 non-null   int64  \n",
      " 45  2nd Flr SF       2930 non-null   int64  \n",
      " 46  Low Qual Fin SF  2930 non-null   int64  \n",
      " 47  Gr Liv Area      2930 non-null   int64  \n",
      " 48  Bsmt Full Bath   2928 non-null   float64\n",
      " 49  Bsmt Half Bath   2928 non-null   float64\n",
      " 50  Full Bath        2930 non-null   int64  \n",
      " 51  Half Bath        2930 non-null   int64  \n",
      " 52  Bedroom AbvGr    2930 non-null   int64  \n",
      " 53  Kitchen AbvGr    2930 non-null   int64  \n",
      " 54  Kitchen Qual     2930 non-null   object \n",
      " 55  TotRms AbvGrd    2930 non-null   int64  \n",
      " 56  Functional       2930 non-null   object \n",
      " 57  Fireplaces       2930 non-null   int64  \n",
      " 58  Fireplace Qu     1508 non-null   object \n",
      " 59  Garage Type      2773 non-null   object \n",
      " 60  Garage Yr Blt    2771 non-null   float64\n",
      " 61  Garage Finish    2771 non-null   object \n",
      " 62  Garage Cars      2929 non-null   float64\n",
      " 63  Garage Area      2929 non-null   float64\n",
      " 64  Garage Qual      2771 non-null   object \n",
      " 65  Garage Cond      2771 non-null   object \n",
      " 66  Paved Drive      2930 non-null   object \n",
      " 67  Wood Deck SF     2930 non-null   int64  \n",
      " 68  Open Porch SF    2930 non-null   int64  \n",
      " 69  Enclosed Porch   2930 non-null   int64  \n",
      " 70  3Ssn Porch       2930 non-null   int64  \n",
      " 71  Screen Porch     2930 non-null   int64  \n",
      " 72  Pool Area        2930 non-null   int64  \n",
      " 73  Pool QC          13 non-null     object \n",
      " 74  Fence            572 non-null    object \n",
      " 75  Misc Feature     106 non-null    object \n",
      " 76  Misc Val         2930 non-null   int64  \n",
      " 77  Mo Sold          2930 non-null   int64  \n",
      " 78  Yr Sold          2930 non-null   int64  \n",
      " 79  Sale Type        2930 non-null   object \n",
      " 80  Sale Condition   2930 non-null   object \n",
      " 81  SalePrice        2930 non-null   int64  \n",
      "dtypes: float64(11), int64(28), object(43)\n",
      "memory usage: 1.8+ MB\n"
     ]
    }
   ],
   "source": [
    "df.info()"
   ]
  },
  {
   "cell_type": "code",
   "execution_count": 6,
   "id": "0c343f48",
   "metadata": {},
   "outputs": [
    {
     "data": {
      "text/html": [
       "<div>\n",
       "<style scoped>\n",
       "    .dataframe tbody tr th:only-of-type {\n",
       "        vertical-align: middle;\n",
       "    }\n",
       "\n",
       "    .dataframe tbody tr th {\n",
       "        vertical-align: top;\n",
       "    }\n",
       "\n",
       "    .dataframe thead th {\n",
       "        text-align: right;\n",
       "    }\n",
       "</style>\n",
       "<table border=\"1\" class=\"dataframe\">\n",
       "  <thead>\n",
       "    <tr style=\"text-align: right;\">\n",
       "      <th></th>\n",
       "      <th>count</th>\n",
       "      <th>mean</th>\n",
       "      <th>std</th>\n",
       "      <th>min</th>\n",
       "      <th>25%</th>\n",
       "      <th>50%</th>\n",
       "      <th>75%</th>\n",
       "      <th>max</th>\n",
       "    </tr>\n",
       "  </thead>\n",
       "  <tbody>\n",
       "    <tr>\n",
       "      <th>Order</th>\n",
       "      <td>2930.0</td>\n",
       "      <td>1.465500e+03</td>\n",
       "      <td>8.459625e+02</td>\n",
       "      <td>1.0</td>\n",
       "      <td>7.332500e+02</td>\n",
       "      <td>1465.5</td>\n",
       "      <td>2.197750e+03</td>\n",
       "      <td>2.930000e+03</td>\n",
       "    </tr>\n",
       "    <tr>\n",
       "      <th>PID</th>\n",
       "      <td>2930.0</td>\n",
       "      <td>7.144645e+08</td>\n",
       "      <td>1.887308e+08</td>\n",
       "      <td>526301100.0</td>\n",
       "      <td>5.284770e+08</td>\n",
       "      <td>535453620.0</td>\n",
       "      <td>9.071811e+08</td>\n",
       "      <td>1.007100e+09</td>\n",
       "    </tr>\n",
       "    <tr>\n",
       "      <th>MS SubClass</th>\n",
       "      <td>2930.0</td>\n",
       "      <td>5.738737e+01</td>\n",
       "      <td>4.263802e+01</td>\n",
       "      <td>20.0</td>\n",
       "      <td>2.000000e+01</td>\n",
       "      <td>50.0</td>\n",
       "      <td>7.000000e+01</td>\n",
       "      <td>1.900000e+02</td>\n",
       "    </tr>\n",
       "    <tr>\n",
       "      <th>Lot Frontage</th>\n",
       "      <td>2440.0</td>\n",
       "      <td>6.922459e+01</td>\n",
       "      <td>2.336533e+01</td>\n",
       "      <td>21.0</td>\n",
       "      <td>5.800000e+01</td>\n",
       "      <td>68.0</td>\n",
       "      <td>8.000000e+01</td>\n",
       "      <td>3.130000e+02</td>\n",
       "    </tr>\n",
       "    <tr>\n",
       "      <th>Lot Area</th>\n",
       "      <td>2930.0</td>\n",
       "      <td>1.014792e+04</td>\n",
       "      <td>7.880018e+03</td>\n",
       "      <td>1300.0</td>\n",
       "      <td>7.440250e+03</td>\n",
       "      <td>9436.5</td>\n",
       "      <td>1.155525e+04</td>\n",
       "      <td>2.152450e+05</td>\n",
       "    </tr>\n",
       "    <tr>\n",
       "      <th>Overall Qual</th>\n",
       "      <td>2930.0</td>\n",
       "      <td>6.094881e+00</td>\n",
       "      <td>1.411026e+00</td>\n",
       "      <td>1.0</td>\n",
       "      <td>5.000000e+00</td>\n",
       "      <td>6.0</td>\n",
       "      <td>7.000000e+00</td>\n",
       "      <td>1.000000e+01</td>\n",
       "    </tr>\n",
       "    <tr>\n",
       "      <th>Overall Cond</th>\n",
       "      <td>2930.0</td>\n",
       "      <td>5.563140e+00</td>\n",
       "      <td>1.111537e+00</td>\n",
       "      <td>1.0</td>\n",
       "      <td>5.000000e+00</td>\n",
       "      <td>5.0</td>\n",
       "      <td>6.000000e+00</td>\n",
       "      <td>9.000000e+00</td>\n",
       "    </tr>\n",
       "    <tr>\n",
       "      <th>Year Built</th>\n",
       "      <td>2930.0</td>\n",
       "      <td>1.971356e+03</td>\n",
       "      <td>3.024536e+01</td>\n",
       "      <td>1872.0</td>\n",
       "      <td>1.954000e+03</td>\n",
       "      <td>1973.0</td>\n",
       "      <td>2.001000e+03</td>\n",
       "      <td>2.010000e+03</td>\n",
       "    </tr>\n",
       "    <tr>\n",
       "      <th>Year Remod/Add</th>\n",
       "      <td>2930.0</td>\n",
       "      <td>1.984267e+03</td>\n",
       "      <td>2.086029e+01</td>\n",
       "      <td>1950.0</td>\n",
       "      <td>1.965000e+03</td>\n",
       "      <td>1993.0</td>\n",
       "      <td>2.004000e+03</td>\n",
       "      <td>2.010000e+03</td>\n",
       "    </tr>\n",
       "    <tr>\n",
       "      <th>Mas Vnr Area</th>\n",
       "      <td>2907.0</td>\n",
       "      <td>1.018968e+02</td>\n",
       "      <td>1.791126e+02</td>\n",
       "      <td>0.0</td>\n",
       "      <td>0.000000e+00</td>\n",
       "      <td>0.0</td>\n",
       "      <td>1.640000e+02</td>\n",
       "      <td>1.600000e+03</td>\n",
       "    </tr>\n",
       "    <tr>\n",
       "      <th>BsmtFin SF 1</th>\n",
       "      <td>2929.0</td>\n",
       "      <td>4.426296e+02</td>\n",
       "      <td>4.555908e+02</td>\n",
       "      <td>0.0</td>\n",
       "      <td>0.000000e+00</td>\n",
       "      <td>370.0</td>\n",
       "      <td>7.340000e+02</td>\n",
       "      <td>5.644000e+03</td>\n",
       "    </tr>\n",
       "    <tr>\n",
       "      <th>BsmtFin SF 2</th>\n",
       "      <td>2929.0</td>\n",
       "      <td>4.972243e+01</td>\n",
       "      <td>1.691685e+02</td>\n",
       "      <td>0.0</td>\n",
       "      <td>0.000000e+00</td>\n",
       "      <td>0.0</td>\n",
       "      <td>0.000000e+00</td>\n",
       "      <td>1.526000e+03</td>\n",
       "    </tr>\n",
       "    <tr>\n",
       "      <th>Bsmt Unf SF</th>\n",
       "      <td>2929.0</td>\n",
       "      <td>5.592625e+02</td>\n",
       "      <td>4.394942e+02</td>\n",
       "      <td>0.0</td>\n",
       "      <td>2.190000e+02</td>\n",
       "      <td>466.0</td>\n",
       "      <td>8.020000e+02</td>\n",
       "      <td>2.336000e+03</td>\n",
       "    </tr>\n",
       "    <tr>\n",
       "      <th>Total Bsmt SF</th>\n",
       "      <td>2929.0</td>\n",
       "      <td>1.051615e+03</td>\n",
       "      <td>4.406151e+02</td>\n",
       "      <td>0.0</td>\n",
       "      <td>7.930000e+02</td>\n",
       "      <td>990.0</td>\n",
       "      <td>1.302000e+03</td>\n",
       "      <td>6.110000e+03</td>\n",
       "    </tr>\n",
       "    <tr>\n",
       "      <th>1st Flr SF</th>\n",
       "      <td>2930.0</td>\n",
       "      <td>1.159558e+03</td>\n",
       "      <td>3.918909e+02</td>\n",
       "      <td>334.0</td>\n",
       "      <td>8.762500e+02</td>\n",
       "      <td>1084.0</td>\n",
       "      <td>1.384000e+03</td>\n",
       "      <td>5.095000e+03</td>\n",
       "    </tr>\n",
       "    <tr>\n",
       "      <th>2nd Flr SF</th>\n",
       "      <td>2930.0</td>\n",
       "      <td>3.354560e+02</td>\n",
       "      <td>4.283957e+02</td>\n",
       "      <td>0.0</td>\n",
       "      <td>0.000000e+00</td>\n",
       "      <td>0.0</td>\n",
       "      <td>7.037500e+02</td>\n",
       "      <td>2.065000e+03</td>\n",
       "    </tr>\n",
       "    <tr>\n",
       "      <th>Low Qual Fin SF</th>\n",
       "      <td>2930.0</td>\n",
       "      <td>4.676792e+00</td>\n",
       "      <td>4.631051e+01</td>\n",
       "      <td>0.0</td>\n",
       "      <td>0.000000e+00</td>\n",
       "      <td>0.0</td>\n",
       "      <td>0.000000e+00</td>\n",
       "      <td>1.064000e+03</td>\n",
       "    </tr>\n",
       "    <tr>\n",
       "      <th>Gr Liv Area</th>\n",
       "      <td>2930.0</td>\n",
       "      <td>1.499690e+03</td>\n",
       "      <td>5.055089e+02</td>\n",
       "      <td>334.0</td>\n",
       "      <td>1.126000e+03</td>\n",
       "      <td>1442.0</td>\n",
       "      <td>1.742750e+03</td>\n",
       "      <td>5.642000e+03</td>\n",
       "    </tr>\n",
       "    <tr>\n",
       "      <th>Bsmt Full Bath</th>\n",
       "      <td>2928.0</td>\n",
       "      <td>4.313525e-01</td>\n",
       "      <td>5.248202e-01</td>\n",
       "      <td>0.0</td>\n",
       "      <td>0.000000e+00</td>\n",
       "      <td>0.0</td>\n",
       "      <td>1.000000e+00</td>\n",
       "      <td>3.000000e+00</td>\n",
       "    </tr>\n",
       "    <tr>\n",
       "      <th>Bsmt Half Bath</th>\n",
       "      <td>2928.0</td>\n",
       "      <td>6.113388e-02</td>\n",
       "      <td>2.452536e-01</td>\n",
       "      <td>0.0</td>\n",
       "      <td>0.000000e+00</td>\n",
       "      <td>0.0</td>\n",
       "      <td>0.000000e+00</td>\n",
       "      <td>2.000000e+00</td>\n",
       "    </tr>\n",
       "    <tr>\n",
       "      <th>Full Bath</th>\n",
       "      <td>2930.0</td>\n",
       "      <td>1.566553e+00</td>\n",
       "      <td>5.529406e-01</td>\n",
       "      <td>0.0</td>\n",
       "      <td>1.000000e+00</td>\n",
       "      <td>2.0</td>\n",
       "      <td>2.000000e+00</td>\n",
       "      <td>4.000000e+00</td>\n",
       "    </tr>\n",
       "    <tr>\n",
       "      <th>Half Bath</th>\n",
       "      <td>2930.0</td>\n",
       "      <td>3.795222e-01</td>\n",
       "      <td>5.026293e-01</td>\n",
       "      <td>0.0</td>\n",
       "      <td>0.000000e+00</td>\n",
       "      <td>0.0</td>\n",
       "      <td>1.000000e+00</td>\n",
       "      <td>2.000000e+00</td>\n",
       "    </tr>\n",
       "    <tr>\n",
       "      <th>Bedroom AbvGr</th>\n",
       "      <td>2930.0</td>\n",
       "      <td>2.854266e+00</td>\n",
       "      <td>8.277311e-01</td>\n",
       "      <td>0.0</td>\n",
       "      <td>2.000000e+00</td>\n",
       "      <td>3.0</td>\n",
       "      <td>3.000000e+00</td>\n",
       "      <td>8.000000e+00</td>\n",
       "    </tr>\n",
       "    <tr>\n",
       "      <th>Kitchen AbvGr</th>\n",
       "      <td>2930.0</td>\n",
       "      <td>1.044369e+00</td>\n",
       "      <td>2.140762e-01</td>\n",
       "      <td>0.0</td>\n",
       "      <td>1.000000e+00</td>\n",
       "      <td>1.0</td>\n",
       "      <td>1.000000e+00</td>\n",
       "      <td>3.000000e+00</td>\n",
       "    </tr>\n",
       "    <tr>\n",
       "      <th>TotRms AbvGrd</th>\n",
       "      <td>2930.0</td>\n",
       "      <td>6.443003e+00</td>\n",
       "      <td>1.572964e+00</td>\n",
       "      <td>2.0</td>\n",
       "      <td>5.000000e+00</td>\n",
       "      <td>6.0</td>\n",
       "      <td>7.000000e+00</td>\n",
       "      <td>1.500000e+01</td>\n",
       "    </tr>\n",
       "    <tr>\n",
       "      <th>Fireplaces</th>\n",
       "      <td>2930.0</td>\n",
       "      <td>5.993174e-01</td>\n",
       "      <td>6.479209e-01</td>\n",
       "      <td>0.0</td>\n",
       "      <td>0.000000e+00</td>\n",
       "      <td>1.0</td>\n",
       "      <td>1.000000e+00</td>\n",
       "      <td>4.000000e+00</td>\n",
       "    </tr>\n",
       "    <tr>\n",
       "      <th>Garage Yr Blt</th>\n",
       "      <td>2771.0</td>\n",
       "      <td>1.978132e+03</td>\n",
       "      <td>2.552841e+01</td>\n",
       "      <td>1895.0</td>\n",
       "      <td>1.960000e+03</td>\n",
       "      <td>1979.0</td>\n",
       "      <td>2.002000e+03</td>\n",
       "      <td>2.207000e+03</td>\n",
       "    </tr>\n",
       "    <tr>\n",
       "      <th>Garage Cars</th>\n",
       "      <td>2929.0</td>\n",
       "      <td>1.766815e+00</td>\n",
       "      <td>7.605664e-01</td>\n",
       "      <td>0.0</td>\n",
       "      <td>1.000000e+00</td>\n",
       "      <td>2.0</td>\n",
       "      <td>2.000000e+00</td>\n",
       "      <td>5.000000e+00</td>\n",
       "    </tr>\n",
       "    <tr>\n",
       "      <th>Garage Area</th>\n",
       "      <td>2929.0</td>\n",
       "      <td>4.728197e+02</td>\n",
       "      <td>2.150465e+02</td>\n",
       "      <td>0.0</td>\n",
       "      <td>3.200000e+02</td>\n",
       "      <td>480.0</td>\n",
       "      <td>5.760000e+02</td>\n",
       "      <td>1.488000e+03</td>\n",
       "    </tr>\n",
       "    <tr>\n",
       "      <th>Wood Deck SF</th>\n",
       "      <td>2930.0</td>\n",
       "      <td>9.375188e+01</td>\n",
       "      <td>1.263616e+02</td>\n",
       "      <td>0.0</td>\n",
       "      <td>0.000000e+00</td>\n",
       "      <td>0.0</td>\n",
       "      <td>1.680000e+02</td>\n",
       "      <td>1.424000e+03</td>\n",
       "    </tr>\n",
       "    <tr>\n",
       "      <th>Open Porch SF</th>\n",
       "      <td>2930.0</td>\n",
       "      <td>4.753345e+01</td>\n",
       "      <td>6.748340e+01</td>\n",
       "      <td>0.0</td>\n",
       "      <td>0.000000e+00</td>\n",
       "      <td>27.0</td>\n",
       "      <td>7.000000e+01</td>\n",
       "      <td>7.420000e+02</td>\n",
       "    </tr>\n",
       "    <tr>\n",
       "      <th>Enclosed Porch</th>\n",
       "      <td>2930.0</td>\n",
       "      <td>2.301160e+01</td>\n",
       "      <td>6.413906e+01</td>\n",
       "      <td>0.0</td>\n",
       "      <td>0.000000e+00</td>\n",
       "      <td>0.0</td>\n",
       "      <td>0.000000e+00</td>\n",
       "      <td>1.012000e+03</td>\n",
       "    </tr>\n",
       "    <tr>\n",
       "      <th>3Ssn Porch</th>\n",
       "      <td>2930.0</td>\n",
       "      <td>2.592491e+00</td>\n",
       "      <td>2.514133e+01</td>\n",
       "      <td>0.0</td>\n",
       "      <td>0.000000e+00</td>\n",
       "      <td>0.0</td>\n",
       "      <td>0.000000e+00</td>\n",
       "      <td>5.080000e+02</td>\n",
       "    </tr>\n",
       "    <tr>\n",
       "      <th>Screen Porch</th>\n",
       "      <td>2930.0</td>\n",
       "      <td>1.600205e+01</td>\n",
       "      <td>5.608737e+01</td>\n",
       "      <td>0.0</td>\n",
       "      <td>0.000000e+00</td>\n",
       "      <td>0.0</td>\n",
       "      <td>0.000000e+00</td>\n",
       "      <td>5.760000e+02</td>\n",
       "    </tr>\n",
       "    <tr>\n",
       "      <th>Pool Area</th>\n",
       "      <td>2930.0</td>\n",
       "      <td>2.243345e+00</td>\n",
       "      <td>3.559718e+01</td>\n",
       "      <td>0.0</td>\n",
       "      <td>0.000000e+00</td>\n",
       "      <td>0.0</td>\n",
       "      <td>0.000000e+00</td>\n",
       "      <td>8.000000e+02</td>\n",
       "    </tr>\n",
       "    <tr>\n",
       "      <th>Misc Val</th>\n",
       "      <td>2930.0</td>\n",
       "      <td>5.063515e+01</td>\n",
       "      <td>5.663443e+02</td>\n",
       "      <td>0.0</td>\n",
       "      <td>0.000000e+00</td>\n",
       "      <td>0.0</td>\n",
       "      <td>0.000000e+00</td>\n",
       "      <td>1.700000e+04</td>\n",
       "    </tr>\n",
       "    <tr>\n",
       "      <th>Mo Sold</th>\n",
       "      <td>2930.0</td>\n",
       "      <td>6.216041e+00</td>\n",
       "      <td>2.714492e+00</td>\n",
       "      <td>1.0</td>\n",
       "      <td>4.000000e+00</td>\n",
       "      <td>6.0</td>\n",
       "      <td>8.000000e+00</td>\n",
       "      <td>1.200000e+01</td>\n",
       "    </tr>\n",
       "    <tr>\n",
       "      <th>Yr Sold</th>\n",
       "      <td>2930.0</td>\n",
       "      <td>2.007790e+03</td>\n",
       "      <td>1.316613e+00</td>\n",
       "      <td>2006.0</td>\n",
       "      <td>2.007000e+03</td>\n",
       "      <td>2008.0</td>\n",
       "      <td>2.009000e+03</td>\n",
       "      <td>2.010000e+03</td>\n",
       "    </tr>\n",
       "    <tr>\n",
       "      <th>SalePrice</th>\n",
       "      <td>2930.0</td>\n",
       "      <td>1.807961e+05</td>\n",
       "      <td>7.988669e+04</td>\n",
       "      <td>12789.0</td>\n",
       "      <td>1.295000e+05</td>\n",
       "      <td>160000.0</td>\n",
       "      <td>2.135000e+05</td>\n",
       "      <td>7.550000e+05</td>\n",
       "    </tr>\n",
       "  </tbody>\n",
       "</table>\n",
       "</div>"
      ],
      "text/plain": [
       "                  count          mean           std          min  \\\n",
       "Order            2930.0  1.465500e+03  8.459625e+02          1.0   \n",
       "PID              2930.0  7.144645e+08  1.887308e+08  526301100.0   \n",
       "MS SubClass      2930.0  5.738737e+01  4.263802e+01         20.0   \n",
       "Lot Frontage     2440.0  6.922459e+01  2.336533e+01         21.0   \n",
       "Lot Area         2930.0  1.014792e+04  7.880018e+03       1300.0   \n",
       "Overall Qual     2930.0  6.094881e+00  1.411026e+00          1.0   \n",
       "Overall Cond     2930.0  5.563140e+00  1.111537e+00          1.0   \n",
       "Year Built       2930.0  1.971356e+03  3.024536e+01       1872.0   \n",
       "Year Remod/Add   2930.0  1.984267e+03  2.086029e+01       1950.0   \n",
       "Mas Vnr Area     2907.0  1.018968e+02  1.791126e+02          0.0   \n",
       "BsmtFin SF 1     2929.0  4.426296e+02  4.555908e+02          0.0   \n",
       "BsmtFin SF 2     2929.0  4.972243e+01  1.691685e+02          0.0   \n",
       "Bsmt Unf SF      2929.0  5.592625e+02  4.394942e+02          0.0   \n",
       "Total Bsmt SF    2929.0  1.051615e+03  4.406151e+02          0.0   \n",
       "1st Flr SF       2930.0  1.159558e+03  3.918909e+02        334.0   \n",
       "2nd Flr SF       2930.0  3.354560e+02  4.283957e+02          0.0   \n",
       "Low Qual Fin SF  2930.0  4.676792e+00  4.631051e+01          0.0   \n",
       "Gr Liv Area      2930.0  1.499690e+03  5.055089e+02        334.0   \n",
       "Bsmt Full Bath   2928.0  4.313525e-01  5.248202e-01          0.0   \n",
       "Bsmt Half Bath   2928.0  6.113388e-02  2.452536e-01          0.0   \n",
       "Full Bath        2930.0  1.566553e+00  5.529406e-01          0.0   \n",
       "Half Bath        2930.0  3.795222e-01  5.026293e-01          0.0   \n",
       "Bedroom AbvGr    2930.0  2.854266e+00  8.277311e-01          0.0   \n",
       "Kitchen AbvGr    2930.0  1.044369e+00  2.140762e-01          0.0   \n",
       "TotRms AbvGrd    2930.0  6.443003e+00  1.572964e+00          2.0   \n",
       "Fireplaces       2930.0  5.993174e-01  6.479209e-01          0.0   \n",
       "Garage Yr Blt    2771.0  1.978132e+03  2.552841e+01       1895.0   \n",
       "Garage Cars      2929.0  1.766815e+00  7.605664e-01          0.0   \n",
       "Garage Area      2929.0  4.728197e+02  2.150465e+02          0.0   \n",
       "Wood Deck SF     2930.0  9.375188e+01  1.263616e+02          0.0   \n",
       "Open Porch SF    2930.0  4.753345e+01  6.748340e+01          0.0   \n",
       "Enclosed Porch   2930.0  2.301160e+01  6.413906e+01          0.0   \n",
       "3Ssn Porch       2930.0  2.592491e+00  2.514133e+01          0.0   \n",
       "Screen Porch     2930.0  1.600205e+01  5.608737e+01          0.0   \n",
       "Pool Area        2930.0  2.243345e+00  3.559718e+01          0.0   \n",
       "Misc Val         2930.0  5.063515e+01  5.663443e+02          0.0   \n",
       "Mo Sold          2930.0  6.216041e+00  2.714492e+00          1.0   \n",
       "Yr Sold          2930.0  2.007790e+03  1.316613e+00       2006.0   \n",
       "SalePrice        2930.0  1.807961e+05  7.988669e+04      12789.0   \n",
       "\n",
       "                          25%          50%           75%           max  \n",
       "Order            7.332500e+02       1465.5  2.197750e+03  2.930000e+03  \n",
       "PID              5.284770e+08  535453620.0  9.071811e+08  1.007100e+09  \n",
       "MS SubClass      2.000000e+01         50.0  7.000000e+01  1.900000e+02  \n",
       "Lot Frontage     5.800000e+01         68.0  8.000000e+01  3.130000e+02  \n",
       "Lot Area         7.440250e+03       9436.5  1.155525e+04  2.152450e+05  \n",
       "Overall Qual     5.000000e+00          6.0  7.000000e+00  1.000000e+01  \n",
       "Overall Cond     5.000000e+00          5.0  6.000000e+00  9.000000e+00  \n",
       "Year Built       1.954000e+03       1973.0  2.001000e+03  2.010000e+03  \n",
       "Year Remod/Add   1.965000e+03       1993.0  2.004000e+03  2.010000e+03  \n",
       "Mas Vnr Area     0.000000e+00          0.0  1.640000e+02  1.600000e+03  \n",
       "BsmtFin SF 1     0.000000e+00        370.0  7.340000e+02  5.644000e+03  \n",
       "BsmtFin SF 2     0.000000e+00          0.0  0.000000e+00  1.526000e+03  \n",
       "Bsmt Unf SF      2.190000e+02        466.0  8.020000e+02  2.336000e+03  \n",
       "Total Bsmt SF    7.930000e+02        990.0  1.302000e+03  6.110000e+03  \n",
       "1st Flr SF       8.762500e+02       1084.0  1.384000e+03  5.095000e+03  \n",
       "2nd Flr SF       0.000000e+00          0.0  7.037500e+02  2.065000e+03  \n",
       "Low Qual Fin SF  0.000000e+00          0.0  0.000000e+00  1.064000e+03  \n",
       "Gr Liv Area      1.126000e+03       1442.0  1.742750e+03  5.642000e+03  \n",
       "Bsmt Full Bath   0.000000e+00          0.0  1.000000e+00  3.000000e+00  \n",
       "Bsmt Half Bath   0.000000e+00          0.0  0.000000e+00  2.000000e+00  \n",
       "Full Bath        1.000000e+00          2.0  2.000000e+00  4.000000e+00  \n",
       "Half Bath        0.000000e+00          0.0  1.000000e+00  2.000000e+00  \n",
       "Bedroom AbvGr    2.000000e+00          3.0  3.000000e+00  8.000000e+00  \n",
       "Kitchen AbvGr    1.000000e+00          1.0  1.000000e+00  3.000000e+00  \n",
       "TotRms AbvGrd    5.000000e+00          6.0  7.000000e+00  1.500000e+01  \n",
       "Fireplaces       0.000000e+00          1.0  1.000000e+00  4.000000e+00  \n",
       "Garage Yr Blt    1.960000e+03       1979.0  2.002000e+03  2.207000e+03  \n",
       "Garage Cars      1.000000e+00          2.0  2.000000e+00  5.000000e+00  \n",
       "Garage Area      3.200000e+02        480.0  5.760000e+02  1.488000e+03  \n",
       "Wood Deck SF     0.000000e+00          0.0  1.680000e+02  1.424000e+03  \n",
       "Open Porch SF    0.000000e+00         27.0  7.000000e+01  7.420000e+02  \n",
       "Enclosed Porch   0.000000e+00          0.0  0.000000e+00  1.012000e+03  \n",
       "3Ssn Porch       0.000000e+00          0.0  0.000000e+00  5.080000e+02  \n",
       "Screen Porch     0.000000e+00          0.0  0.000000e+00  5.760000e+02  \n",
       "Pool Area        0.000000e+00          0.0  0.000000e+00  8.000000e+02  \n",
       "Misc Val         0.000000e+00          0.0  0.000000e+00  1.700000e+04  \n",
       "Mo Sold          4.000000e+00          6.0  8.000000e+00  1.200000e+01  \n",
       "Yr Sold          2.007000e+03       2008.0  2.009000e+03  2.010000e+03  \n",
       "SalePrice        1.295000e+05     160000.0  2.135000e+05  7.550000e+05  "
      ]
     },
     "execution_count": 6,
     "metadata": {},
     "output_type": "execute_result"
    }
   ],
   "source": [
    "df.describe().T"
   ]
  },
  {
   "cell_type": "code",
   "execution_count": 7,
   "id": "91cc7bdd",
   "metadata": {},
   "outputs": [
    {
     "data": {
      "text/plain": [
       "['Order',\n",
       " 'PID',\n",
       " 'MS SubClass',\n",
       " 'MS Zoning',\n",
       " 'Lot Frontage',\n",
       " 'Lot Area',\n",
       " 'Street',\n",
       " 'Alley',\n",
       " 'Lot Shape',\n",
       " 'Land Contour',\n",
       " 'Utilities',\n",
       " 'Lot Config',\n",
       " 'Land Slope',\n",
       " 'Neighborhood',\n",
       " 'Condition 1',\n",
       " 'Condition 2',\n",
       " 'Bldg Type',\n",
       " 'House Style',\n",
       " 'Overall Qual',\n",
       " 'Overall Cond',\n",
       " 'Year Built',\n",
       " 'Year Remod/Add',\n",
       " 'Roof Style',\n",
       " 'Roof Matl',\n",
       " 'Exterior 1st',\n",
       " 'Exterior 2nd',\n",
       " 'Mas Vnr Type',\n",
       " 'Mas Vnr Area',\n",
       " 'Exter Qual',\n",
       " 'Exter Cond',\n",
       " 'Foundation',\n",
       " 'Bsmt Qual',\n",
       " 'Bsmt Cond',\n",
       " 'Bsmt Exposure',\n",
       " 'BsmtFin Type 1',\n",
       " 'BsmtFin SF 1',\n",
       " 'BsmtFin Type 2',\n",
       " 'BsmtFin SF 2',\n",
       " 'Bsmt Unf SF',\n",
       " 'Total Bsmt SF',\n",
       " 'Heating',\n",
       " 'Heating QC',\n",
       " 'Central Air',\n",
       " 'Electrical',\n",
       " '1st Flr SF',\n",
       " '2nd Flr SF',\n",
       " 'Low Qual Fin SF',\n",
       " 'Gr Liv Area',\n",
       " 'Bsmt Full Bath',\n",
       " 'Bsmt Half Bath',\n",
       " 'Full Bath',\n",
       " 'Half Bath',\n",
       " 'Bedroom AbvGr',\n",
       " 'Kitchen AbvGr',\n",
       " 'Kitchen Qual',\n",
       " 'TotRms AbvGrd',\n",
       " 'Functional',\n",
       " 'Fireplaces',\n",
       " 'Fireplace Qu',\n",
       " 'Garage Type',\n",
       " 'Garage Yr Blt',\n",
       " 'Garage Finish',\n",
       " 'Garage Cars',\n",
       " 'Garage Area',\n",
       " 'Garage Qual',\n",
       " 'Garage Cond',\n",
       " 'Paved Drive',\n",
       " 'Wood Deck SF',\n",
       " 'Open Porch SF',\n",
       " 'Enclosed Porch',\n",
       " '3Ssn Porch',\n",
       " 'Screen Porch',\n",
       " 'Pool Area',\n",
       " 'Pool QC',\n",
       " 'Fence',\n",
       " 'Misc Feature',\n",
       " 'Misc Val',\n",
       " 'Mo Sold',\n",
       " 'Yr Sold',\n",
       " 'Sale Type',\n",
       " 'Sale Condition',\n",
       " 'SalePrice']"
      ]
     },
     "execution_count": 7,
     "metadata": {},
     "output_type": "execute_result"
    }
   ],
   "source": [
    "list(df.columns)"
   ]
  },
  {
   "cell_type": "code",
   "execution_count": 8,
   "id": "7383d7ad",
   "metadata": {},
   "outputs": [
    {
     "data": {
      "text/plain": [
       "<AxesSubplot:xlabel='SalePrice'>"
      ]
     },
     "execution_count": 8,
     "metadata": {},
     "output_type": "execute_result"
    },
    {
     "data": {
      "image/png": "[encoded data removed]",
      "text/plain": [
       "<Figure size 640x480 with 1 Axes>"
      ]
     },
     "metadata": {},
     "output_type": "display_data"
    }
   ],
   "source": [
    "sns.boxplot(data=df, x='SalePrice')"
   ]
  },
  {
   "cell_type": "code",
   "execution_count": 9,
   "id": "c63a9543",
   "metadata": {},
   "outputs": [
    {
     "ename": "SyntaxError",
     "evalue": "invalid syntax (465633149.py, line 1)",
     "output_type": "error",
     "traceback": [
      "\u001b[1;36m  File \u001b[1;32m\"C:\\Users\\HP REVOLVE\\AppData\\Local\\Temp\\ipykernel_7436\\465633149.py\"\u001b[1;36m, line \u001b[1;32m1\u001b[0m\n\u001b[1;33m    The columns you mentioned are part of the Ames Housing Dataset, which is often used for housing price prediction and regression analysis. Here's the full meaning of each column:\u001b[0m\n\u001b[1;37m        ^\u001b[0m\n\u001b[1;31mSyntaxError\u001b[0m\u001b[1;31m:\u001b[0m invalid syntax\n"
     ]
    }
   ],
   "source": [
    "The columns you mentioned are part of the Ames Housing Dataset, which is often used for housing price prediction and regression analysis. Here's the full meaning of each column:\n",
    "\n",
    "1. `Order`: An identifier for each record, typically representing the order in which the data was collected or entered.\n",
    "\n",
    "2. `PID`: Parcel identification number, a unique identifier for each property.\n",
    "\n",
    "3. `MS SubClass`: The type of dwelling, represented as a numeric code.\n",
    "\n",
    "4. `MS Zoning`: The zoning classification of the property, indicating how it can be used (e.g., residential, commercial, industrial).\n",
    "\n",
    "5. `Lot Frontage`: Linear feet of street connected to the property.\n",
    "\n",
    "6. `Lot Area`: Lot size in square feet.\n",
    "\n",
    "7. `Street`: Type of road access to the property (e.g., paved or gravel).\n",
    "\n",
    "8. `Alley`: Type of alley access to the property (e.g., paved, gravel, no alley access).\n",
    "\n",
    "9. `Lot Shape`: General shape of the lot (e.g., regular, irregular).\n",
    "\n",
    "10. `Land Contour`: Flatness of the property (e.g., level, banked, hillside).\n",
    "\n",
    "11. `Utilities`: Type of utilities available (e.g., all public utilities, electricity only).\n",
    "\n",
    "12. `Lot Config`: Lot configuration (e.g., inside lot, corner lot).\n",
    "\n",
    "13. `Land Slope`: Slope of the property (e.g., gentle slope, moderate slope).\n",
    "\n",
    "14. `Neighborhood`: Physical locations within the city of Ames, Iowa.\n",
    "\n",
    "15. `Condition 1`: Proximity to various conditions (e.g., near a railroad, near park).\n",
    "\n",
    "16. `Condition 2`: Proximity to other conditions (if more than one is present).\n",
    "\n",
    "17. `Bldg Type`: Type of dwelling (e.g., single-family, townhouse).\n",
    "\n",
    "18. `House Style`: Style of the dwelling (e.g., ranch, two-story).\n",
    "\n",
    "19. `Overall Qual`: Overall material and finish quality of the house.\n",
    "\n",
    "20. `Overall Cond`: Overall condition rating of the house.\n",
    "\n",
    "21. `Year Built`: Year the house was originally built.\n",
    "\n",
    "22. `Year Remod/Add`: Year of the most recent remodeling or addition.\n",
    "\n",
    "23. `Roof Style`: Type of roof design.\n",
    "\n",
    "24. `Roof Matl`: Roof material.\n",
    "\n",
    "25. `Exterior 1st`: Exterior covering on the house.\n",
    "\n",
    "26. `Exterior 2nd`: Secondary exterior covering (if applicable).\n",
    "\n",
    "27. `Mas Vnr Type`: Masonry veneer type.\n",
    "\n",
    "28. `Mas Vnr Area`: Masonry veneer area in square feet.\n",
    "\n",
    "29. `Exter Qual`: Exterior material quality.\n",
    "\n",
    "30. `Exter Cond`: Exterior material condition.\n",
    "\n",
    "31. `Foundation`: Type of foundation.\n",
    "\n",
    "32. `Bsmt Qual`: Height of the basement.\n",
    "\n",
    "33. `Bsmt Cond`: General condition of the basement.\n",
    "\n",
    "34. `Bsmt Exposure`: Walkout or garden level basement walls exposure.\n",
    "\n",
    "35. `BsmtFin Type 1`: Quality of basement finished area.\n",
    "\n",
    "36. `BsmtFin SF 1`: Type 1 finished square feet.\n",
    "\n",
    "37. `BsmtFin Type 2`: Quality of the second finished area (if present).\n",
    "\n",
    "38. `BsmtFin SF 2`: Type 2 finished square feet.\n",
    "\n",
    "39. `Bsmt Unf SF`: Unfinished basement square feet.\n",
    "\n",
    "40. `Total Bsmt SF`: Total square feet of basement area.\n",
    "\n",
    "41. `Heating`: Type of heating.\n",
    "\n",
    "42. `Heating QC`: Heating quality and condition.\n",
    "\n",
    "43. `Central Air`: Central air conditioning.\n",
    "\n",
    "44. `Electrical`: Electrical system.\n",
    "\n",
    "45. `1st Flr SF`: First-floor square feet.\n",
    "\n",
    "46. `2nd Flr SF`: Second-floor square feet.\n",
    "\n",
    "47. `Low Qual Fin SF`: Low-quality finished square feet (e.g., low-quality basement finish).\n",
    "\n",
    "48. `Gr Liv Area`: Above-grade (ground) living area square feet.\n",
    "\n",
    "49. `Bsmt Full Bath`: Basement full bathrooms.\n",
    "\n",
    "50. `Bsmt Half Bath`: Basement half bathrooms.\n",
    "\n",
    "51. `Full Bath`: Full bathrooms above grade.\n",
    "\n",
    "52. `Half Bath`: Half bathrooms above grade.\n",
    "\n",
    "53. `Bedroom AbvGr`: Bedrooms above grade.\n",
    "\n",
    "54. `Kitchen AbvGr`: Kitchens above grade.\n",
    "\n",
    "55. `Kitchen Qual`: Kitchen quality.\n",
    "\n",
    "56. `TotRms AbvGrd`: Total rooms above grade (does not include bathrooms).\n",
    "\n",
    "57. `Functional`: Home functionality rating.\n",
    "\n",
    "58. `Fireplaces`: Number of fireplaces.\n",
    "\n",
    "59. `Fireplace Qu`: Fireplace quality.\n",
    "\n",
    "60. `Garage Type`: Garage location and type.\n",
    "\n",
    "61. `Garage Yr Blt`: Year garage was built.\n",
    "\n",
    "62. `Garage Finish`: Interior finish of the garage.\n",
    "\n",
    "63. `Garage Cars`: Size of garage in car capacity.\n",
    "\n",
    "64. `Garage Area`: Size of garage in square feet.\n",
    "\n",
    "65. `Garage Qual`: Garage quality.\n",
    "\n",
    "66. `Garage Cond`: Garage condition.\n",
    "\n",
    "67. `Paved Drive`: Paved driveway.\n",
    "\n",
    "68. `Wood Deck SF`: Wood deck area in square feet.\n",
    "\n",
    "69. `Open Porch SF`: Open porch area in square feet.\n",
    "\n",
    "70. `Enclosed Porch`: Enclosed porch area in square feet.\n",
    "\n",
    "71. `3Ssn Porch`: Three-season porch area in square feet.\n",
    "\n",
    "72. `Screen Porch`: Screen porch area in square feet.\n",
    "\n",
    "73. `Pool Area`: Pool area in square feet.\n",
    "\n",
    "74. `Pool QC`: Pool quality.\n",
    "\n",
    "75. `Fence`: Fence quality.\n",
    "\n",
    "76. `Misc Feature`: Miscellaneous feature not covered in other categories.\n",
    "\n",
    "77. `Misc Val`: Value of miscellaneous feature.\n",
    "\n",
    "78. `Mo Sold`: Month Sold.\n",
    "\n",
    "79. `Yr Sold`: Year Sold.\n",
    "\n",
    "80. `Sale Type`: Type of sale.\n",
    "\n",
    "81. `Sale Condition`: Condition of sale (e.g., normal, abnormal).\n",
    "\n",
    "These columns provide detailed information about various aspects of the properties in the dataset, and they can be used to analyze and predict housing prices."
   ]
  },
  {
   "cell_type": "code",
   "execution_count": 10,
   "id": "0edec32e",
   "metadata": {},
   "outputs": [
    {
     "data": {
      "text/plain": [
       "<AxesSubplot:xlabel='SalePrice', ylabel='Density'>"
      ]
     },
     "execution_count": 10,
     "metadata": {},
     "output_type": "execute_result"
    },
    {
     "data": {
      "image/png": "[encoded data removed]",
      "text/plain": [
       "<Figure size 640x480 with 1 Axes>"
      ]
     },
     "metadata": {},
     "output_type": "display_data"
    }
   ],
   "source": [
    "# distribution of saleprice\n",
    "sns.kdeplot(df['SalePrice'])"
   ]
  },
  {
   "cell_type": "code",
   "execution_count": 11,
   "id": "42a8fedf",
   "metadata": {},
   "outputs": [
    {
     "data": {
      "text/plain": [
       "<AxesSubplot:>"
      ]
     },
     "execution_count": 11,
     "metadata": {},
     "output_type": "execute_result"
    },
    {
     "data": {
      "image/png": "[encoded data removed]",
      "text/plain": [
       "<Figure size 640x480 with 2 Axes>"
      ]
     },
     "metadata": {},
     "output_type": "display_data"
    }
   ],
   "source": [
    "sns.heatmap(df.corr())"
   ]
  },
  {
   "cell_type": "code",
   "execution_count": 12,
   "id": "86fff66c",
   "metadata": {},
   "outputs": [],
   "source": [
    "df_num = df.select_dtypes(include='number')"
   ]
  },
  {
   "cell_type": "code",
   "execution_count": 13,
   "id": "50cef4ae",
   "metadata": {},
   "outputs": [
    {
     "data": {
      "text/plain": [
       "PID               -0.246521\n",
       "Enclosed Porch    -0.128787\n",
       "Kitchen AbvGr     -0.119814\n",
       "Overall Cond      -0.101697\n",
       "MS SubClass       -0.085092\n",
       "Low Qual Fin SF   -0.037660\n",
       "Bsmt Half Bath    -0.035835\n",
       "Order             -0.031408\n",
       "Yr Sold           -0.030569\n",
       "Misc Val          -0.015691\n",
       "BsmtFin SF 2       0.005891\n",
       "3Ssn Porch         0.032225\n",
       "Mo Sold            0.035259\n",
       "Pool Area          0.068403\n",
       "Screen Porch       0.112151\n",
       "Bedroom AbvGr      0.143913\n",
       "Bsmt Unf SF        0.182855\n",
       "Lot Area           0.266549\n",
       "2nd Flr SF         0.269373\n",
       "Bsmt Full Bath     0.276050\n",
       "Half Bath          0.285056\n",
       "Open Porch SF      0.312951\n",
       "Wood Deck SF       0.327143\n",
       "Lot Frontage       0.357318\n",
       "BsmtFin SF 1       0.432914\n",
       "Fireplaces         0.474558\n",
       "TotRms AbvGrd      0.495474\n",
       "Mas Vnr Area       0.508285\n",
       "Garage Yr Blt      0.526965\n",
       "Year Remod/Add     0.532974\n",
       "Full Bath          0.545604\n",
       "Year Built         0.558426\n",
       "1st Flr SF         0.621676\n",
       "Total Bsmt SF      0.632280\n",
       "Garage Area        0.640401\n",
       "Garage Cars        0.647877\n",
       "Gr Liv Area        0.706780\n",
       "Overall Qual       0.799262\n",
       "SalePrice          1.000000\n",
       "Name: SalePrice, dtype: float64"
      ]
     },
     "execution_count": 13,
     "metadata": {},
     "output_type": "execute_result"
    }
   ],
   "source": [
    "df.corr()['SalePrice'].sort_values()"
   ]
  },
  {
   "cell_type": "markdown",
   "id": "90516e1a",
   "metadata": {},
   "source": [
    "# Data cleaning"
   ]
  },
  {
   "cell_type": "code",
   "execution_count": 14,
   "id": "a8b076c7",
   "metadata": {},
   "outputs": [],
   "source": [
    "# Outlier detection"
   ]
  },
  {
   "cell_type": "code",
   "execution_count": 15,
   "id": "67745fb4",
   "metadata": {},
   "outputs": [
    {
     "data": {
      "text/plain": [
       "<AxesSubplot:xlabel='Overall Qual', ylabel='SalePrice'>"
      ]
     },
     "execution_count": 15,
     "metadata": {},
     "output_type": "execute_result"
    },
    {
     "data": {
      "image/png": "[encoded data removed]",
      "text/plain": [
       "<Figure size 640x480 with 1 Axes>"
      ]
     },
     "metadata": {},
     "output_type": "display_data"
    }
   ],
   "source": [
    "# overall quality is highly correlated with the target variable\n",
    "sns.scatterplot(data=df, x='Overall Qual', y='SalePrice')"
   ]
  },
  {
   "cell_type": "code",
   "execution_count": 16,
   "id": "cb260fec",
   "metadata": {},
   "outputs": [
    {
     "data": {
      "text/plain": [
       "<AxesSubplot:xlabel='Gr Liv Area', ylabel='SalePrice'>"
      ]
     },
     "execution_count": 16,
     "metadata": {},
     "output_type": "execute_result"
    },
    {
     "data": {
      "image/png": "[encoded data removed]",
      "text/plain": [
       "<Figure size 640x480 with 1 Axes>"
      ]
     },
     "metadata": {},
     "output_type": "display_data"
    }
   ],
   "source": [
    "sns.scatterplot(data=df, x='Gr Liv Area', y='SalePrice') # we can spot three data points that are deviating in the plot"
   ]
  },
  {
   "cell_type": "code",
   "execution_count": 17,
   "id": "f0be215b",
   "metadata": {},
   "outputs": [],
   "source": [
    "# we remove the outliers from our DataFrame\n",
    "df2 = df[~(df['Gr Liv Area']>= 4000) & (df['SalePrice']<=300000)]"
   ]
  },
  {
   "cell_type": "code",
   "execution_count": 18,
   "id": "321d8574",
   "metadata": {},
   "outputs": [
    {
     "data": {
      "text/plain": [
       "(2697, 82)"
      ]
     },
     "execution_count": 18,
     "metadata": {},
     "output_type": "execute_result"
    }
   ],
   "source": [
    "df2.shape"
   ]
  },
  {
   "cell_type": "code",
   "execution_count": 19,
   "id": "ee2221c1",
   "metadata": {},
   "outputs": [
    {
     "data": {
      "text/plain": [
       "<AxesSubplot:xlabel='Gr Liv Area', ylabel='SalePrice'>"
      ]
     },
     "execution_count": 19,
     "metadata": {},
     "output_type": "execute_result"
    },
    {
     "data": {
      "image/png": "[encoded data removed]",
      "text/plain": [
       "<Figure size 640x480 with 1 Axes>"
      ]
     },
     "metadata": {},
     "output_type": "display_data"
    }
   ],
   "source": [
    "sns.scatterplot(data=df2, x= 'Gr Liv Area', y='SalePrice')"
   ]
  },
  {
   "cell_type": "code",
   "execution_count": 20,
   "id": "b19f1400",
   "metadata": {},
   "outputs": [
    {
     "data": {
      "text/html": [
       "<div>\n",
       "<style scoped>\n",
       "    .dataframe tbody tr th:only-of-type {\n",
       "        vertical-align: middle;\n",
       "    }\n",
       "\n",
       "    .dataframe tbody tr th {\n",
       "        vertical-align: top;\n",
       "    }\n",
       "\n",
       "    .dataframe thead th {\n",
       "        text-align: right;\n",
       "    }\n",
       "</style>\n",
       "<table border=\"1\" class=\"dataframe\">\n",
       "  <thead>\n",
       "    <tr style=\"text-align: right;\">\n",
       "      <th></th>\n",
       "      <th>Order</th>\n",
       "      <th>PID</th>\n",
       "    </tr>\n",
       "  </thead>\n",
       "  <tbody>\n",
       "    <tr>\n",
       "      <th>0</th>\n",
       "      <td>1</td>\n",
       "      <td>526301100</td>\n",
       "    </tr>\n",
       "    <tr>\n",
       "      <th>1</th>\n",
       "      <td>2</td>\n",
       "      <td>526350040</td>\n",
       "    </tr>\n",
       "    <tr>\n",
       "      <th>2</th>\n",
       "      <td>3</td>\n",
       "      <td>526351010</td>\n",
       "    </tr>\n",
       "    <tr>\n",
       "      <th>3</th>\n",
       "      <td>4</td>\n",
       "      <td>526353030</td>\n",
       "    </tr>\n",
       "    <tr>\n",
       "      <th>4</th>\n",
       "      <td>5</td>\n",
       "      <td>527105010</td>\n",
       "    </tr>\n",
       "    <tr>\n",
       "      <th>...</th>\n",
       "      <td>...</td>\n",
       "      <td>...</td>\n",
       "    </tr>\n",
       "    <tr>\n",
       "      <th>2925</th>\n",
       "      <td>2926</td>\n",
       "      <td>923275080</td>\n",
       "    </tr>\n",
       "    <tr>\n",
       "      <th>2926</th>\n",
       "      <td>2927</td>\n",
       "      <td>923276100</td>\n",
       "    </tr>\n",
       "    <tr>\n",
       "      <th>2927</th>\n",
       "      <td>2928</td>\n",
       "      <td>923400125</td>\n",
       "    </tr>\n",
       "    <tr>\n",
       "      <th>2928</th>\n",
       "      <td>2929</td>\n",
       "      <td>924100070</td>\n",
       "    </tr>\n",
       "    <tr>\n",
       "      <th>2929</th>\n",
       "      <td>2930</td>\n",
       "      <td>924151050</td>\n",
       "    </tr>\n",
       "  </tbody>\n",
       "</table>\n",
       "<p>2697 rows × 2 columns</p>\n",
       "</div>"
      ],
      "text/plain": [
       "      Order        PID\n",
       "0         1  526301100\n",
       "1         2  526350040\n",
       "2         3  526351010\n",
       "3         4  526353030\n",
       "4         5  527105010\n",
       "...     ...        ...\n",
       "2925   2926  923275080\n",
       "2926   2927  923276100\n",
       "2927   2928  923400125\n",
       "2928   2929  924100070\n",
       "2929   2930  924151050\n",
       "\n",
       "[2697 rows x 2 columns]"
      ]
     },
     "execution_count": 20,
     "metadata": {},
     "output_type": "execute_result"
    }
   ],
   "source": [
    "df2[['Order','PID']]"
   ]
  },
  {
   "cell_type": "code",
   "execution_count": 21,
   "id": "7e496cdc",
   "metadata": {},
   "outputs": [],
   "source": [
    "# we drop the 'Order' and 'PID' columns\n",
    "df3 = df2.drop(columns=['Order','PID'], axis=1)"
   ]
  },
  {
   "cell_type": "code",
   "execution_count": 22,
   "id": "58169be1",
   "metadata": {},
   "outputs": [
    {
     "data": {
      "text/plain": [
       "(2697, 80)"
      ]
     },
     "execution_count": 22,
     "metadata": {},
     "output_type": "execute_result"
    }
   ],
   "source": [
    "df3.shape"
   ]
  },
  {
   "cell_type": "code",
   "execution_count": 23,
   "id": "73c1fb81",
   "metadata": {},
   "outputs": [
    {
     "data": {
      "text/plain": [
       "MS SubClass        0.000000\n",
       "MS Zoning          0.000000\n",
       "Lot Frontage      17.500927\n",
       "Lot Area           0.000000\n",
       "Street             0.000000\n",
       "                    ...    \n",
       "Mo Sold            0.000000\n",
       "Yr Sold            0.000000\n",
       "Sale Type          0.000000\n",
       "Sale Condition     0.000000\n",
       "SalePrice          0.000000\n",
       "Length: 80, dtype: float64"
      ]
     },
     "execution_count": 23,
     "metadata": {},
     "output_type": "execute_result"
    }
   ],
   "source": [
    "df3.isnull().mean().mul(100)"
   ]
  },
  {
   "cell_type": "code",
   "execution_count": 24,
   "id": "747bfbee",
   "metadata": {},
   "outputs": [],
   "source": [
    "def percent_missing(df):\n",
    "    '''returns the percentage of missing values in each column of a dataframe'''\n",
    "    percent_nan = df.isnull().mean().mul(100)\n",
    "    percent_nan = percent_nan[percent_nan > 0].sort_values()\n",
    "    return percent_nan"
   ]
  },
  {
   "cell_type": "code",
   "execution_count": 25,
   "id": "e46b253a",
   "metadata": {},
   "outputs": [],
   "source": [
    "percent_nan = percent_missing(df3)"
   ]
  },
  {
   "cell_type": "code",
   "execution_count": 26,
   "id": "5b87ab61",
   "metadata": {},
   "outputs": [
    {
     "data": {
      "text/plain": [
       "Electrical         0.037078\n",
       "Garage Area        0.037078\n",
       "Total Bsmt SF      0.037078\n",
       "Bsmt Unf SF        0.037078\n",
       "BsmtFin SF 1       0.037078\n",
       "BsmtFin SF 2       0.037078\n",
       "Garage Cars        0.037078\n",
       "Bsmt Full Bath     0.074156\n",
       "Bsmt Half Bath     0.074156\n",
       "Mas Vnr Area       0.704486\n",
       "Mas Vnr Type       0.704486\n",
       "BsmtFin Type 1     2.966259\n",
       "Bsmt Qual          2.966259\n",
       "Bsmt Cond          2.966259\n",
       "BsmtFin Type 2     3.003337\n",
       "Bsmt Exposure      3.077494\n",
       "Garage Type        5.821283\n",
       "Garage Finish      5.895439\n",
       "Garage Qual        5.895439\n",
       "Garage Cond        5.895439\n",
       "Garage Yr Blt      5.895439\n",
       "Lot Frontage      17.500927\n",
       "Fireplace Qu      52.428624\n",
       "Fence             79.162032\n",
       "Alley             92.732666\n",
       "Misc Feature      96.106785\n",
       "Pool QC           99.666296\n",
       "dtype: float64"
      ]
     },
     "execution_count": 26,
     "metadata": {},
     "output_type": "execute_result"
    }
   ],
   "source": [
    "percent_nan"
   ]
  },
  {
   "cell_type": "code",
   "execution_count": 27,
   "id": "b7931230",
   "metadata": {},
   "outputs": [
    {
     "data": {
      "text/plain": [
       "<AxesSubplot:>"
      ]
     },
     "execution_count": 27,
     "metadata": {},
     "output_type": "execute_result"
    },
    {
     "data": {
      "image/png": "[encoded data removed]",
      "text/plain": [
       "<Figure size 640x480 with 1 Axes>"
      ]
     },
     "metadata": {},
     "output_type": "display_data"
    }
   ],
   "source": [
    "sns.barplot(x=percent_nan, y=percent_nan.index)"
   ]
  },
  {
   "cell_type": "code",
   "execution_count": 28,
   "id": "fbd8739e",
   "metadata": {},
   "outputs": [
    {
     "data": {
      "text/plain": [
       "Electrical        0.037078\n",
       "Garage Area       0.037078\n",
       "Total Bsmt SF     0.037078\n",
       "Bsmt Unf SF       0.037078\n",
       "BsmtFin SF 1      0.037078\n",
       "BsmtFin SF 2      0.037078\n",
       "Garage Cars       0.037078\n",
       "Bsmt Full Bath    0.074156\n",
       "Bsmt Half Bath    0.074156\n",
       "Mas Vnr Area      0.704486\n",
       "Mas Vnr Type      0.704486\n",
       "dtype: float64"
      ]
     },
     "execution_count": 28,
     "metadata": {},
     "output_type": "execute_result"
    }
   ],
   "source": [
    "percent_nan[percent_nan<1]"
   ]
  },
  {
   "cell_type": "code",
   "execution_count": 29,
   "id": "9623bc32",
   "metadata": {},
   "outputs": [],
   "source": [
    "df4 = df3.dropna(axis=0,subset=['Electrical','Garage Area'])"
   ]
  },
  {
   "cell_type": "code",
   "execution_count": 30,
   "id": "293f310b",
   "metadata": {},
   "outputs": [
    {
     "data": {
      "text/plain": [
       "(2695, 80)"
      ]
     },
     "execution_count": 30,
     "metadata": {},
     "output_type": "execute_result"
    }
   ],
   "source": [
    "df4.shape"
   ]
  },
  {
   "cell_type": "code",
   "execution_count": 31,
   "id": "7a73c989",
   "metadata": {},
   "outputs": [],
   "source": [
    "num_basement_cols = ['BsmtFin SF 1', 'BsmtFin SF 2', 'Bsmt Unf SF','Total Bsmt SF', 'Bsmt Full Bath', 'Bsmt Half Bath']\n",
    "df5 = df4.copy()\n",
    "df5[num_basement_cols] = df5[num_basement_cols].fillna(0)"
   ]
  },
  {
   "cell_type": "code",
   "execution_count": 32,
   "id": "62cd2f4f",
   "metadata": {},
   "outputs": [],
   "source": [
    "str_basement_cols = ['Bsmt Qual', 'Bsmt Cond', 'Bsmt Exposure', 'BsmtFin Type 1', 'BsmtFin Type 2']\n",
    "df5[str_basement_cols]= df5[str_basement_cols].fillna('None')"
   ]
  },
  {
   "cell_type": "code",
   "execution_count": 33,
   "id": "ea3c7c4c",
   "metadata": {},
   "outputs": [],
   "source": [
    "percent_nan = percent_missing(df5)"
   ]
  },
  {
   "cell_type": "code",
   "execution_count": 34,
   "id": "7bc85586",
   "metadata": {},
   "outputs": [
    {
     "data": {
      "text/plain": [
       "Mas Vnr Type      0.705009\n",
       "Mas Vnr Area      0.705009\n",
       "Garage Type       5.825603\n",
       "Garage Yr Blt     5.862709\n",
       "Garage Finish     5.862709\n",
       "Garage Qual       5.862709\n",
       "Garage Cond       5.862709\n",
       "Lot Frontage     17.513915\n",
       "Fireplace Qu     52.393321\n",
       "Fence            79.183673\n",
       "Alley            92.727273\n",
       "Misc Feature     96.103896\n",
       "Pool QC          99.666048\n",
       "dtype: float64"
      ]
     },
     "execution_count": 34,
     "metadata": {},
     "output_type": "execute_result"
    }
   ],
   "source": [
    "percent_nan"
   ]
  },
  {
   "cell_type": "code",
   "execution_count": 35,
   "id": "13098edd",
   "metadata": {},
   "outputs": [
    {
     "data": {
      "text/plain": [
       "Mas Vnr Type    0.705009\n",
       "Mas Vnr Area    0.705009\n",
       "dtype: float64"
      ]
     },
     "execution_count": 35,
     "metadata": {},
     "output_type": "execute_result"
    }
   ],
   "source": [
    "percent_nan[percent_nan<1]"
   ]
  },
  {
   "cell_type": "code",
   "execution_count": 36,
   "id": "11da81c3",
   "metadata": {},
   "outputs": [
    {
     "data": {
      "text/plain": [
       "array(['Stone', 'None', 'BrkFace', nan, 'BrkCmn', 'CBlock'], dtype=object)"
      ]
     },
     "execution_count": 36,
     "metadata": {},
     "output_type": "execute_result"
    }
   ],
   "source": [
    "df5['Mas Vnr Type'].unique()"
   ]
  },
  {
   "cell_type": "code",
   "execution_count": 37,
   "id": "3bd59182",
   "metadata": {},
   "outputs": [],
   "source": [
    "df5['Mas Vnr Type'] = df5['Mas Vnr Type'].fillna('None')\n",
    "df5['Mas Vnr Area'] = df5['Mas Vnr Area'].fillna(0)"
   ]
  },
  {
   "cell_type": "code",
   "execution_count": 38,
   "id": "29a2f266",
   "metadata": {},
   "outputs": [
    {
     "data": {
      "text/plain": [
       "Garage Type       5.825603\n",
       "Garage Yr Blt     5.862709\n",
       "Garage Finish     5.862709\n",
       "Garage Qual       5.862709\n",
       "Garage Cond       5.862709\n",
       "Lot Frontage     17.513915\n",
       "Fireplace Qu     52.393321\n",
       "Fence            79.183673\n",
       "Alley            92.727273\n",
       "Misc Feature     96.103896\n",
       "Pool QC          99.666048\n",
       "dtype: float64"
      ]
     },
     "execution_count": 38,
     "metadata": {},
     "output_type": "execute_result"
    }
   ],
   "source": [
    "percent_nan = percent_missing(df5)\n",
    "percent_nan"
   ]
  },
  {
   "cell_type": "code",
   "execution_count": 39,
   "id": "40bd79dd",
   "metadata": {},
   "outputs": [
    {
     "data": {
      "text/plain": [
       "array(['Attchd', 'Basment', 'Detchd', nan, 'BuiltIn', 'CarPort', '2Types'],\n",
       "      dtype=object)"
      ]
     },
     "execution_count": 39,
     "metadata": {},
     "output_type": "execute_result"
    }
   ],
   "source": [
    "df5['Garage Type'].unique()"
   ]
  },
  {
   "cell_type": "code",
   "execution_count": 40,
   "id": "612d658b",
   "metadata": {},
   "outputs": [
    {
     "data": {
      "text/plain": [
       "array([1960., 1961., 1958., 1968., 1997., 1998., 2001., 1992., 1995.,\n",
       "       1999., 1993., 1990., 1985., 1988., 1951., 1978., 1977., 1974.,\n",
       "       2000., 1970., 1971.,   nan, 1975., 2009., 2005., 2004., 2010.,\n",
       "       2006., 2003., 2002., 1996., 2008., 1994., 1980., 1979., 1984.,\n",
       "       1986., 1920., 1987., 1973., 1963., 1962., 1976., 1967., 1972.,\n",
       "       1966., 1964., 1950., 1949., 1954., 1955., 1959., 1957., 1956.,\n",
       "       1952., 1953., 1989., 1948., 1900., 1927., 1915., 1945., 1940.,\n",
       "       1938., 1928., 1930., 1926., 1939., 1942., 1923., 1917., 1910.,\n",
       "       1965., 1969., 1947., 1946., 1941., 1924., 1922., 1896., 2007.,\n",
       "       1983., 1981., 1991., 1982., 1916., 1925., 1936., 1935., 1931.,\n",
       "       1934., 1929., 1918., 1921., 1937., 1932., 1906., 1908., 1895.,\n",
       "       1933., 2207., 1914., 1943., 1919.])"
      ]
     },
     "execution_count": 40,
     "metadata": {},
     "output_type": "execute_result"
    }
   ],
   "source": [
    "df5['Garage Yr Blt'].unique()"
   ]
  },
  {
   "cell_type": "code",
   "execution_count": 41,
   "id": "49b28ab3",
   "metadata": {},
   "outputs": [
    {
     "data": {
      "text/plain": [
       "array(['Fin', 'Unf', 'RFn', nan], dtype=object)"
      ]
     },
     "execution_count": 41,
     "metadata": {},
     "output_type": "execute_result"
    }
   ],
   "source": [
    "df5['Garage Finish'].unique()"
   ]
  },
  {
   "cell_type": "code",
   "execution_count": 42,
   "id": "2826cb91",
   "metadata": {},
   "outputs": [
    {
     "data": {
      "text/plain": [
       "array(['TA', nan, 'Fa', 'Gd', 'Ex', 'Po'], dtype=object)"
      ]
     },
     "execution_count": 42,
     "metadata": {},
     "output_type": "execute_result"
    }
   ],
   "source": [
    "df5['Garage Qual'].unique()"
   ]
  },
  {
   "cell_type": "code",
   "execution_count": 43,
   "id": "5a5f72e9",
   "metadata": {},
   "outputs": [
    {
     "data": {
      "text/plain": [
       "array(['TA', nan, 'Fa', 'Gd', 'Ex', 'Po'], dtype=object)"
      ]
     },
     "execution_count": 43,
     "metadata": {},
     "output_type": "execute_result"
    }
   ],
   "source": [
    "df5['Garage Cond'].unique()"
   ]
  },
  {
   "cell_type": "code",
   "execution_count": 44,
   "id": "2331571b",
   "metadata": {},
   "outputs": [],
   "source": [
    "garage_str =['Garage Type','Garage Finish', 'Garage Qual', 'Garage Cond']\n",
    "df6 = df5.copy()\n",
    "df6[garage_str] = df6[garage_str].fillna('None')"
   ]
  },
  {
   "cell_type": "code",
   "execution_count": 47,
   "id": "0f5e93f6",
   "metadata": {},
   "outputs": [],
   "source": [
    "df6['Garage Yr Blt'] = df6['Garage Yr Blt'].fillna(0)"
   ]
  },
  {
   "cell_type": "code",
   "execution_count": 48,
   "id": "fff4a34c",
   "metadata": {},
   "outputs": [],
   "source": [
    "percent_nan = percent_missing(df6)"
   ]
  },
  {
   "cell_type": "code",
   "execution_count": 49,
   "id": "a385c56a",
   "metadata": {},
   "outputs": [
    {
     "data": {
      "text/plain": [
       "Lot Frontage    17.513915\n",
       "Fireplace Qu    52.393321\n",
       "Fence           79.183673\n",
       "Alley           92.727273\n",
       "Misc Feature    96.103896\n",
       "Pool QC         99.666048\n",
       "dtype: float64"
      ]
     },
     "execution_count": 49,
     "metadata": {},
     "output_type": "execute_result"
    }
   ],
   "source": [
    "percent_nan"
   ]
  },
  {
   "cell_type": "code",
   "execution_count": 50,
   "id": "c1a0d06a",
   "metadata": {},
   "outputs": [],
   "source": [
    "# 'Fence', 'Alley', 'Misc Feature' and 'Pool QC' has over 70% of it missing, it will be better to drop it\n",
    "df7 = df6.copy()\n",
    "df7 = df7.drop(columns=['Fence','Alley','Misc Feature','Pool QC'], axis=1)"
   ]
  },
  {
   "cell_type": "code",
   "execution_count": 51,
   "id": "c74ef449",
   "metadata": {},
   "outputs": [],
   "source": [
    "percent_nan = percent_missing(df7)"
   ]
  },
  {
   "cell_type": "code",
   "execution_count": 52,
   "id": "24dd0189",
   "metadata": {},
   "outputs": [
    {
     "data": {
      "text/plain": [
       "Lot Frontage    17.513915\n",
       "Fireplace Qu    52.393321\n",
       "dtype: float64"
      ]
     },
     "execution_count": 52,
     "metadata": {},
     "output_type": "execute_result"
    }
   ],
   "source": [
    "percent_nan"
   ]
  },
  {
   "cell_type": "code",
   "execution_count": 53,
   "id": "df02ba1e",
   "metadata": {},
   "outputs": [
    {
     "data": {
      "text/plain": [
       "array(['Gd', nan, 'TA', 'Po', 'Fa', 'Ex'], dtype=object)"
      ]
     },
     "execution_count": 53,
     "metadata": {},
     "output_type": "execute_result"
    }
   ],
   "source": [
    "df7['Fireplace Qu'].unique()"
   ]
  },
  {
   "cell_type": "code",
   "execution_count": 54,
   "id": "0821905b",
   "metadata": {},
   "outputs": [],
   "source": [
    "# seems some houses do not have a fireplace\n",
    "df8 = df7.copy()\n",
    "df8['Fireplace Qu'] = df8['Fireplace Qu'].fillna('None')"
   ]
  },
  {
   "cell_type": "code",
   "execution_count": 55,
   "id": "e0f2b917",
   "metadata": {},
   "outputs": [],
   "source": [
    "percent_nan = percent_missing(df8)"
   ]
  },
  {
   "cell_type": "code",
   "execution_count": 56,
   "id": "75daf86b",
   "metadata": {},
   "outputs": [
    {
     "data": {
      "text/plain": [
       "Lot Frontage    17.513915\n",
       "dtype: float64"
      ]
     },
     "execution_count": 56,
     "metadata": {},
     "output_type": "execute_result"
    }
   ],
   "source": [
    "percent_nan"
   ]
  },
  {
   "cell_type": "code",
   "execution_count": 57,
   "id": "c528afdf",
   "metadata": {},
   "outputs": [
    {
     "data": {
      "text/plain": [
       "Index(['MS SubClass', 'MS Zoning', 'Lot Frontage', 'Lot Area', 'Street',\n",
       "       'Lot Shape', 'Land Contour', 'Utilities', 'Lot Config', 'Land Slope',\n",
       "       'Neighborhood', 'Condition 1', 'Condition 2', 'Bldg Type',\n",
       "       'House Style', 'Overall Qual', 'Overall Cond', 'Year Built',\n",
       "       'Year Remod/Add', 'Roof Style', 'Roof Matl', 'Exterior 1st',\n",
       "       'Exterior 2nd', 'Mas Vnr Type', 'Mas Vnr Area', 'Exter Qual',\n",
       "       'Exter Cond', 'Foundation', 'Bsmt Qual', 'Bsmt Cond', 'Bsmt Exposure',\n",
       "       'BsmtFin Type 1', 'BsmtFin SF 1', 'BsmtFin Type 2', 'BsmtFin SF 2',\n",
       "       'Bsmt Unf SF', 'Total Bsmt SF', 'Heating', 'Heating QC', 'Central Air',\n",
       "       'Electrical', '1st Flr SF', '2nd Flr SF', 'Low Qual Fin SF',\n",
       "       'Gr Liv Area', 'Bsmt Full Bath', 'Bsmt Half Bath', 'Full Bath',\n",
       "       'Half Bath', 'Bedroom AbvGr', 'Kitchen AbvGr', 'Kitchen Qual',\n",
       "       'TotRms AbvGrd', 'Functional', 'Fireplaces', 'Fireplace Qu',\n",
       "       'Garage Type', 'Garage Yr Blt', 'Garage Finish', 'Garage Cars',\n",
       "       'Garage Area', 'Garage Qual', 'Garage Cond', 'Paved Drive',\n",
       "       'Wood Deck SF', 'Open Porch SF', 'Enclosed Porch', '3Ssn Porch',\n",
       "       'Screen Porch', 'Pool Area', 'Misc Val', 'Mo Sold', 'Yr Sold',\n",
       "       'Sale Type', 'Sale Condition', 'SalePrice'],\n",
       "      dtype='object')"
      ]
     },
     "execution_count": 57,
     "metadata": {},
     "output_type": "execute_result"
    }
   ],
   "source": [
    "df8.columns"
   ]
  },
  {
   "cell_type": "code",
   "execution_count": 58,
   "id": "7b02c0aa",
   "metadata": {},
   "outputs": [],
   "source": [
    "df8['Lot Frontage'] = df8.groupby('Neighborhood')['Lot Frontage'].transform(lambda value: value.fillna(value.mean()))"
   ]
  },
  {
   "cell_type": "code",
   "execution_count": 62,
   "id": "067c62a2",
   "metadata": {},
   "outputs": [
    {
     "data": {
      "text/plain": [
       "Series([], dtype: float64)"
      ]
     },
     "execution_count": 62,
     "metadata": {},
     "output_type": "execute_result"
    }
   ],
   "source": [
    "percent_nan = percent_missing(df8)\n",
    "percent_nan"
   ]
  },
  {
   "cell_type": "code",
   "execution_count": 61,
   "id": "2ab086d3",
   "metadata": {},
   "outputs": [],
   "source": [
    "df8['Lot Frontage'] = df8['Lot Frontage'].fillna(0)"
   ]
  },
  {
   "cell_type": "code",
   "execution_count": 126,
   "id": "80aeec4b",
   "metadata": {},
   "outputs": [],
   "source": [
    "X = df8.copy()\n",
    "y = X.pop(\"SalePrice\")\n",
    "\n",
    "# Label encoding for categoricals\n",
    "for colname in X.select_dtypes(\"object\"):\n",
    "    X[colname], _ = X[colname].factorize()"
   ]
  },
  {
   "cell_type": "code",
   "execution_count": 127,
   "id": "05ce152d",
   "metadata": {},
   "outputs": [
    {
     "data": {
      "text/plain": [
       "Neighborhood      0.475955\n",
       "Year Built        0.361637\n",
       "Garage Cars       0.290422\n",
       "MS SubClass       0.278377\n",
       "Exter Qual        0.245610\n",
       "Kitchen Qual      0.236071\n",
       "Lot Frontage      0.202195\n",
       "Exterior 2nd      0.157606\n",
       "Fireplaces        0.148352\n",
       "TotRms AbvGrd     0.134446\n",
       "BsmtFin SF 1      0.117875\n",
       "Mas Vnr Area      0.102019\n",
       "Wood Deck SF      0.085312\n",
       "House Style       0.078648\n",
       "Sale Type         0.070165\n",
       "Enclosed Porch    0.057846\n",
       "Sale Condition    0.047169\n",
       "Condition 1       0.037385\n",
       "Lot Config        0.019255\n",
       "Screen Porch      0.015718\n",
       "Misc Val          0.009228\n",
       "Functional        0.006191\n",
       "Utilities         0.003311\n",
       "Pool Area         0.000767\n",
       "Roof Style        0.000000\n",
       "Name: MI Scores, dtype: float64"
      ]
     },
     "execution_count": 127,
     "metadata": {},
     "output_type": "execute_result"
    }
   ],
   "source": [
    "from sklearn.feature_selection import mutual_info_regression\n",
    "\n",
    "def make_mi_scores(X, y):\n",
    "    mi_scores = mutual_info_regression(X, y)\n",
    "    mi_scores = pd.Series(mi_scores, name=\"MI Scores\", index=X.columns)\n",
    "    mi_scores = mi_scores.sort_values(ascending=False)\n",
    "    return mi_scores\n",
    "\n",
    "mi_scores = make_mi_scores(X, y)\n",
    "mi_scores[::3]  # show a few features with their MI scores"
   ]
  },
  {
   "cell_type": "code",
   "execution_count": 137,
   "id": "a3f5d679",
   "metadata": {},
   "outputs": [
    {
     "data": {
      "text/plain": [
       "Garage Cond        0.089518\n",
       "Garage Qual        0.088171\n",
       "Wood Deck SF       0.085312\n",
       "Central Air        0.082154\n",
       "Mas Vnr Type       0.079672\n",
       "House Style        0.078648\n",
       "Lot Shape          0.078002\n",
       "Paved Drive        0.077625\n",
       "Sale Type          0.070165\n",
       "Bsmt Exposure      0.066998\n",
       "Half Bath          0.058427\n",
       "Enclosed Porch     0.057846\n",
       "Bsmt Cond          0.053167\n",
       "Electrical         0.050798\n",
       "Sale Condition     0.047169\n",
       "Bedroom AbvGr      0.043232\n",
       "Bldg Type          0.041615\n",
       "Condition 1        0.037385\n",
       "Yr Sold            0.019751\n",
       "BsmtFin Type 2     0.019573\n",
       "Lot Config         0.019255\n",
       "Bsmt Full Bath     0.017515\n",
       "Exter Cond         0.016317\n",
       "Screen Porch       0.015718\n",
       "BsmtFin SF 2       0.012494\n",
       "Heating            0.012481\n",
       "Misc Val           0.009228\n",
       "Roof Matl          0.006415\n",
       "Land Contour       0.006210\n",
       "Functional         0.006191\n",
       "Kitchen AbvGr      0.005643\n",
       "Street             0.003316\n",
       "Utilities          0.003311\n",
       "Land Slope         0.002229\n",
       "Low Qual Fin SF    0.001828\n",
       "Pool Area          0.000767\n",
       "Condition 2        0.000410\n",
       "Bsmt Half Bath     0.000000\n",
       "Roof Style         0.000000\n",
       "3Ssn Porch         0.000000\n",
       "Mo Sold            0.000000\n",
       "Name: MI Scores, dtype: float64"
      ]
     },
     "execution_count": 137,
     "metadata": {},
     "output_type": "execute_result"
    }
   ],
   "source": [
    "mi_scores.tail(41)"
   ]
  },
  {
   "cell_type": "code",
   "execution_count": 139,
   "id": "6b65c6e4",
   "metadata": {},
   "outputs": [
    {
     "data": {
      "text/html": [
       "<div>\n",
       "<style scoped>\n",
       "    .dataframe tbody tr th:only-of-type {\n",
       "        vertical-align: middle;\n",
       "    }\n",
       "\n",
       "    .dataframe tbody tr th {\n",
       "        vertical-align: top;\n",
       "    }\n",
       "\n",
       "    .dataframe thead th {\n",
       "        text-align: right;\n",
       "    }\n",
       "</style>\n",
       "<table border=\"1\" class=\"dataframe\">\n",
       "  <thead>\n",
       "    <tr style=\"text-align: right;\">\n",
       "      <th></th>\n",
       "      <th>MS SubClass</th>\n",
       "      <th>MS Zoning</th>\n",
       "      <th>Lot Frontage</th>\n",
       "      <th>Lot Area</th>\n",
       "      <th>Street</th>\n",
       "      <th>Lot Shape</th>\n",
       "      <th>Land Contour</th>\n",
       "      <th>Utilities</th>\n",
       "      <th>Lot Config</th>\n",
       "      <th>Land Slope</th>\n",
       "      <th>...</th>\n",
       "      <th>Open Porch SF</th>\n",
       "      <th>Enclosed Porch</th>\n",
       "      <th>3Ssn Porch</th>\n",
       "      <th>Screen Porch</th>\n",
       "      <th>Pool Area</th>\n",
       "      <th>Misc Val</th>\n",
       "      <th>Mo Sold</th>\n",
       "      <th>Yr Sold</th>\n",
       "      <th>Sale Type</th>\n",
       "      <th>Sale Condition</th>\n",
       "    </tr>\n",
       "  </thead>\n",
       "  <tbody>\n",
       "    <tr>\n",
       "      <th>0</th>\n",
       "      <td>20</td>\n",
       "      <td>0</td>\n",
       "      <td>141.0</td>\n",
       "      <td>31770</td>\n",
       "      <td>0</td>\n",
       "      <td>0</td>\n",
       "      <td>0</td>\n",
       "      <td>0</td>\n",
       "      <td>0</td>\n",
       "      <td>0</td>\n",
       "      <td>...</td>\n",
       "      <td>62</td>\n",
       "      <td>0</td>\n",
       "      <td>0</td>\n",
       "      <td>0</td>\n",
       "      <td>0</td>\n",
       "      <td>0</td>\n",
       "      <td>5</td>\n",
       "      <td>2010</td>\n",
       "      <td>0</td>\n",
       "      <td>0</td>\n",
       "    </tr>\n",
       "    <tr>\n",
       "      <th>1</th>\n",
       "      <td>20</td>\n",
       "      <td>1</td>\n",
       "      <td>80.0</td>\n",
       "      <td>11622</td>\n",
       "      <td>0</td>\n",
       "      <td>1</td>\n",
       "      <td>0</td>\n",
       "      <td>0</td>\n",
       "      <td>1</td>\n",
       "      <td>0</td>\n",
       "      <td>...</td>\n",
       "      <td>0</td>\n",
       "      <td>0</td>\n",
       "      <td>0</td>\n",
       "      <td>120</td>\n",
       "      <td>0</td>\n",
       "      <td>0</td>\n",
       "      <td>6</td>\n",
       "      <td>2010</td>\n",
       "      <td>0</td>\n",
       "      <td>0</td>\n",
       "    </tr>\n",
       "    <tr>\n",
       "      <th>2</th>\n",
       "      <td>20</td>\n",
       "      <td>0</td>\n",
       "      <td>81.0</td>\n",
       "      <td>14267</td>\n",
       "      <td>0</td>\n",
       "      <td>0</td>\n",
       "      <td>0</td>\n",
       "      <td>0</td>\n",
       "      <td>0</td>\n",
       "      <td>0</td>\n",
       "      <td>...</td>\n",
       "      <td>36</td>\n",
       "      <td>0</td>\n",
       "      <td>0</td>\n",
       "      <td>0</td>\n",
       "      <td>0</td>\n",
       "      <td>12500</td>\n",
       "      <td>6</td>\n",
       "      <td>2010</td>\n",
       "      <td>0</td>\n",
       "      <td>0</td>\n",
       "    </tr>\n",
       "    <tr>\n",
       "      <th>3</th>\n",
       "      <td>20</td>\n",
       "      <td>0</td>\n",
       "      <td>93.0</td>\n",
       "      <td>11160</td>\n",
       "      <td>0</td>\n",
       "      <td>1</td>\n",
       "      <td>0</td>\n",
       "      <td>0</td>\n",
       "      <td>0</td>\n",
       "      <td>0</td>\n",
       "      <td>...</td>\n",
       "      <td>0</td>\n",
       "      <td>0</td>\n",
       "      <td>0</td>\n",
       "      <td>0</td>\n",
       "      <td>0</td>\n",
       "      <td>0</td>\n",
       "      <td>4</td>\n",
       "      <td>2010</td>\n",
       "      <td>0</td>\n",
       "      <td>0</td>\n",
       "    </tr>\n",
       "    <tr>\n",
       "      <th>4</th>\n",
       "      <td>60</td>\n",
       "      <td>0</td>\n",
       "      <td>74.0</td>\n",
       "      <td>13830</td>\n",
       "      <td>0</td>\n",
       "      <td>0</td>\n",
       "      <td>0</td>\n",
       "      <td>0</td>\n",
       "      <td>1</td>\n",
       "      <td>0</td>\n",
       "      <td>...</td>\n",
       "      <td>34</td>\n",
       "      <td>0</td>\n",
       "      <td>0</td>\n",
       "      <td>0</td>\n",
       "      <td>0</td>\n",
       "      <td>0</td>\n",
       "      <td>3</td>\n",
       "      <td>2010</td>\n",
       "      <td>0</td>\n",
       "      <td>0</td>\n",
       "    </tr>\n",
       "  </tbody>\n",
       "</table>\n",
       "<p>5 rows × 75 columns</p>\n",
       "</div>"
      ],
      "text/plain": [
       "   MS SubClass  MS Zoning  Lot Frontage  Lot Area  Street  Lot Shape  \\\n",
       "0           20          0         141.0     31770       0          0   \n",
       "1           20          1          80.0     11622       0          1   \n",
       "2           20          0          81.0     14267       0          0   \n",
       "3           20          0          93.0     11160       0          1   \n",
       "4           60          0          74.0     13830       0          0   \n",
       "\n",
       "   Land Contour  Utilities  Lot Config  Land Slope  ...  Open Porch SF  \\\n",
       "0             0          0           0           0  ...             62   \n",
       "1             0          0           1           0  ...              0   \n",
       "2             0          0           0           0  ...             36   \n",
       "3             0          0           0           0  ...              0   \n",
       "4             0          0           1           0  ...             34   \n",
       "\n",
       "   Enclosed Porch  3Ssn Porch  Screen Porch  Pool Area  Misc Val  Mo Sold  \\\n",
       "0               0           0             0          0         0        5   \n",
       "1               0           0           120          0         0        6   \n",
       "2               0           0             0          0     12500        6   \n",
       "3               0           0             0          0         0        4   \n",
       "4               0           0             0          0         0        3   \n",
       "\n",
       "   Yr Sold  Sale Type  Sale Condition  \n",
       "0     2010          0               0  \n",
       "1     2010          0               0  \n",
       "2     2010          0               0  \n",
       "3     2010          0               0  \n",
       "4     2010          0               0  \n",
       "\n",
       "[5 rows x 75 columns]"
      ]
     },
     "execution_count": 139,
     "metadata": {},
     "output_type": "execute_result"
    }
   ],
   "source": [
    "X.head()"
   ]
  },
  {
   "cell_type": "code",
   "execution_count": 140,
   "id": "791dbcd2",
   "metadata": {},
   "outputs": [],
   "source": [
    "# dropping featues with mutual_info less than 1"
   ]
  },
  {
   "cell_type": "code",
   "execution_count": 143,
   "id": "ec4bad2f",
   "metadata": {},
   "outputs": [],
   "source": [
    "X = X.drop(columns = ['Garage Cond','Garage Qual','Wood Deck SF','Central Air','Mas Vnr Type','House Style','Lot Shape',\n",
    "'Paved Drive','Sale Type','Bsmt Exposure','Half Bath','Enclosed Porch','Bsmt Cond','Electrical','Sale Condition','Bedroom AbvGr',\n",
    "'Bldg Type','Condition 1','Yr Sold','BsmtFin Type 2','Lot Config','Bsmt Full Bath','Exter Cond','Screen Porch','BsmtFin SF 2','Heating',\n",
    "'Misc Val','Roof Matl','Land Contour','Functional','Kitchen AbvGr','Street','Utilities','Land Slope','Low Qual Fin SF',\n",
    "'Pool Area','Condition 2','Bsmt Half Bath','Roof Style','3Ssn Porch','Mo Sold'], axis=1)"
   ]
  },
  {
   "cell_type": "code",
   "execution_count": 144,
   "id": "43037efd",
   "metadata": {},
   "outputs": [
    {
     "data": {
      "text/plain": [
       "(2695, 34)"
      ]
     },
     "execution_count": 144,
     "metadata": {},
     "output_type": "execute_result"
    }
   ],
   "source": [
    "X.shape"
   ]
  },
  {
   "cell_type": "markdown",
   "id": "3e74e590",
   "metadata": {},
   "source": [
    "#  linear model"
   ]
  },
  {
   "cell_type": "code",
   "execution_count": 147,
   "id": "98e6ea06",
   "metadata": {},
   "outputs": [],
   "source": [
    "from sklearn.model_selection import train_test_split"
   ]
  },
  {
   "cell_type": "code",
   "execution_count": 146,
   "id": "d62971f7",
   "metadata": {},
   "outputs": [],
   "source": [
    "from sklearn.ensemble import RandomForestRegressor"
   ]
  },
  {
   "cell_type": "code",
   "execution_count": 148,
   "id": "2b247483",
   "metadata": {},
   "outputs": [],
   "source": [
    "model = RandomForestRegressor(random_state =1)"
   ]
  },
  {
   "cell_type": "code",
   "execution_count": 150,
   "id": "7cddee1e",
   "metadata": {},
   "outputs": [],
   "source": [
    "X_train,X_test,y_train,y_test = train_test_split(X,y,train_size=0.7,test_size=0.3,random_state=1)"
   ]
  },
  {
   "cell_type": "code",
   "execution_count": 151,
   "id": "163b6496",
   "metadata": {},
   "outputs": [
    {
     "data": {
      "text/plain": [
       "RandomForestRegressor(random_state=1)"
      ]
     },
     "execution_count": 151,
     "metadata": {},
     "output_type": "execute_result"
    }
   ],
   "source": [
    "model.fit(X_train,y_train)"
   ]
  },
  {
   "cell_type": "code",
   "execution_count": 152,
   "id": "4666c164",
   "metadata": {},
   "outputs": [],
   "source": [
    "from sklearn.metrics import mean_absolute_error"
   ]
  },
  {
   "cell_type": "code",
   "execution_count": 154,
   "id": "9c8dda26",
   "metadata": {},
   "outputs": [],
   "source": [
    "train_preds = model.predict(X_train)"
   ]
  },
  {
   "cell_type": "code",
   "execution_count": 155,
   "id": "88e2b1da",
   "metadata": {},
   "outputs": [
    {
     "name": "stdout",
     "output_type": "stream",
     "text": [
      "5031.832276422763\n"
     ]
    }
   ],
   "source": [
    "print(mean_absolute_error(y_train, train_preds))"
   ]
  },
  {
   "cell_type": "code",
   "execution_count": 156,
   "id": "c09e5ea7",
   "metadata": {},
   "outputs": [],
   "source": [
    "test_preds = model.predict(X_test)"
   ]
  },
  {
   "cell_type": "code",
   "execution_count": 157,
   "id": "2f37e9aa",
   "metadata": {},
   "outputs": [
    {
     "name": "stdout",
     "output_type": "stream",
     "text": [
      "MAE: 13661.538846312322\n"
     ]
    }
   ],
   "source": [
    "print('MAE:', mean_absolute_error(y_test,test_preds))"
   ]
  },
  {
   "cell_type": "code",
   "execution_count": 159,
   "id": "bbd276c2",
   "metadata": {},
   "outputs": [],
   "source": [
    "# the mean absolute error of the model prediction on our train data which was used for modelling is smaller(5,031) compared to\n",
    "# the mean absolute error on test data (13,661), this implies that the model is overfitting because it performs better on the\n",
    "# train data than test data. However we can reduce overfitting by tuning some parameters to bulild a better model"
   ]
  },
  {
   "cell_type": "code",
   "execution_count": null,
   "id": "55d797b3",
   "metadata": {},
   "outputs": [],
   "source": []
  }
 ],
 "metadata": {
  "kernelspec": {
   "display_name": "Python 3 (ipykernel)",
   "language": "python",
   "name": "python3"
  },
  "language_info": {
   "codemirror_mode": {
    "name": "ipython",
    "version": 3
   },
   "file_extension": ".py",
   "mimetype": "text/x-python",
   "name": "python",
   "nbconvert_exporter": "python",
   "pygments_lexer": "ipython3",
   "version": "3.9.13"
  }
 },
 "nbformat": 4,
 "nbformat_minor": 5
}
